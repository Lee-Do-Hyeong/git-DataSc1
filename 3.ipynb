{
  "cells": [
    {
      "cell_type": "markdown",
      "metadata": {
        "id": "t72iT4ZCc8KM"
      },
      "source": [
        "[![Open In Colab](https://colab.research.google.com/assets/colab-badge.svg)](https://colab.research.google.com/github/corazzon/boostcourse-ds-510/blob/master/open-data-analysis-input.ipynb)\n",
        "\n",
        "\n",
        "# 공공데이터 상권정보 분석해 보기\n",
        "* https://www.data.go.kr/dataset/15012005/fileData.do\n",
        "* 국가중점데이터인 상권정보를 살펴봅니다.\n",
        "* 처음으로 파일데이터에서 `상가(상권)정보_의료기관_201909`를 다운로드 받아봅니다."
      ]
    },
    {
      "cell_type": "markdown",
      "metadata": {
        "id": "PgFqQ8cVc8KN"
      },
      "source": [
        "## 필요한 라이브러리 불러오기"
      ]
    },
    {
      "cell_type": "code",
      "execution_count": null,
      "metadata": {},
      "outputs": [],
      "source": [
        "# conda install seaborn\n",
        "# !conda install matplotlib"
      ]
    },
    {
      "cell_type": "code",
      "execution_count": null,
      "metadata": {
        "id": "F1JS0yLWc8KN"
      },
      "outputs": [],
      "source": [
        "import pandas as pd\n",
        "import numpy as np\n",
        "import seaborn as sns #시각화를 위한"
      ]
    },
    {
      "cell_type": "markdown",
      "metadata": {
        "id": "A4Ih_ZXEc8KO"
      },
      "source": [
        "## 시각화를 위한 폰트 설정"
      ]
    },
    {
      "cell_type": "code",
      "execution_count": null,
      "metadata": {
        "id": "aqCvgtiYc8KO"
      },
      "outputs": [],
      "source": [
        "# 한글폰트 사용을 위해 설치\n",
        "# 아래 모듈을 설치하고 불러오면 별도의 한글폰트 설정이 필요 없습니다.\n",
        "# /opt/anaconda3/envs/DataSc1/bin/pip install koreanize-matplotlib\n"
      ]
    },
    {
      "cell_type": "code",
      "execution_count": null,
      "metadata": {},
      "outputs": [],
      "source": [
        "# import koreanize_matplotlib"
      ]
    },
    {
      "cell_type": "code",
      "execution_count": null,
      "metadata": {
        "id": "mcqla7Jgc8KO"
      },
      "outputs": [],
      "source": [
        "import matplotlib.pyplot as plt\n",
        "from IPython.display import set_matplotlib_formats\n",
        "# Window 의 한글 폰트 설정\n",
        "# plt.rc('font',family='Malgun Gothic')\n",
        "# Mac 의 한글 폰트 설정\n",
        "plt.rc('font', family='AppleGothic')\n",
        "plt.rc('axes', unicode_minus=False)\n",
        "\n",
        "# 폰트가 선명하게 보이기 위해 - 그래프에 retina display 적용\n",
        "# retina 대신 svg 등의 설정을 할 수도 있으며\n",
        "# 디스플레이(모니터)가 retina 를 지원해야만 선명한 차이를 볼 수 있습니다.\n",
        "%config InlineBackend.figure_format = 'retina'\n",
        "\n",
        "# 그래프가 노트북 안에 보이게 하기 위해\n",
        "%matplotlib inline"
      ]
    },
    {
      "cell_type": "markdown",
      "metadata": {
        "id": "SCw7IuzYc8KO"
      },
      "source": [
        "## 데이터 로드하기\n",
        "* 판다스에서 데이터를 로드할 때는 read_csv를 사용합니다.\n",
        "* 데이터를 로드해서 df라는 변수에 담습니다.\n",
        "* 그리고 shape 를 통해 데이터의 갯수를 찍습니다. 결과는 (행, 열) 순으로 출력됩니다."
      ]
    },
    {
      "cell_type": "code",
      "execution_count": null,
      "metadata": {
        "id": "VnZZELsac8KP"
      },
      "outputs": [],
      "source": [
        "df = pd.read_csv(\"data.csv\")\n",
        "df.shape "
      ]
    },
    {
      "cell_type": "markdown",
      "metadata": {
        "id": "ZFfhcd78c8KP"
      },
      "source": [
        "## 데이터 미리보기\n",
        "* head, tail 을 통해 데이터를 미리 볼 수 있습니다."
      ]
    },
    {
      "cell_type": "code",
      "execution_count": null,
      "metadata": {
        "id": "3plZKZe2c8KP"
      },
      "outputs": [],
      "source": [
        "# 커맨드 I  >> docstring(공식문서 볼 수 있음) 에 대해 자세히 설명해주세요 vscode에서 메소드의 공식문서를 보는 방법\n",
        "# head 로 데이터를 미리보기 합니다.\n",
        "df.head(3)"
      ]
    },
    {
      "cell_type": "code",
      "execution_count": null,
      "metadata": {
        "id": "cy1IjCYIc8KP",
        "scrolled": false
      },
      "outputs": [],
      "source": [
        "# tail 로 마지막 부분에 있는 데이터를 불러옵니다.\n",
        "df.tail(3)"
      ]
    },
    {
      "cell_type": "code",
      "execution_count": null,
      "metadata": {
        "id": "nZRU9B75c8KP"
      },
      "outputs": [],
      "source": [
        "# sample 로 미리보기를 합니다.\n",
        "df.sample()"
      ]
    },
    {
      "cell_type": "markdown",
      "metadata": {
        "id": "CXeBBgudc8KP"
      },
      "source": [
        "## 데이터 요약하기"
      ]
    },
    {
      "cell_type": "markdown",
      "metadata": {
        "id": "riQ0CGlYc8KP"
      },
      "source": [
        "### 요약정보"
      ]
    },
    {
      "cell_type": "code",
      "execution_count": null,
      "metadata": {
        "id": "C1SbdIOgc8KP"
      },
      "outputs": [],
      "source": [
        "# info로 데이터의 요약을 봅니다.\n",
        "df.info()"
      ]
    },
    {
      "cell_type": "markdown",
      "metadata": {
        "id": "QcY078tvc8KQ"
      },
      "source": [
        "### 컬럼명 보기"
      ]
    },
    {
      "cell_type": "code",
      "execution_count": null,
      "metadata": {
        "id": "69dTfVbKc8KQ"
      },
      "outputs": [],
      "source": [
        "# 컬럼명만 출력해 봅니다.\n",
        "df.columns"
      ]
    },
    {
      "cell_type": "markdown",
      "metadata": {
        "id": "jqppzahnc8KQ"
      },
      "source": [
        "### 데이터 타입"
      ]
    },
    {
      "cell_type": "code",
      "execution_count": null,
      "metadata": {
        "id": "w9-MGNDoc8KQ"
      },
      "outputs": [],
      "source": [
        "# 데이터 타입만 출력합니다.\n",
        "df.dtypes"
      ]
    },
    {
      "cell_type": "markdown",
      "metadata": {
        "id": "L98gmTm_c8KQ"
      },
      "source": [
        "## 결측치"
      ]
    },
    {
      "cell_type": "code",
      "execution_count": null,
      "metadata": {},
      "outputs": [],
      "source": [
        "True == 1"
      ]
    },
    {
      "cell_type": "code",
      "execution_count": null,
      "metadata": {
        "id": "lJx4K199c8KQ"
      },
      "outputs": [],
      "source": [
        "# 위에서 구한 결측치를 .plot.bar 를 통해 막대그래프로 표현합니다.\n",
        "null_count = df.isnull().sum()\n",
        "null_count.plot.barh(figsize = (6,10))"
      ]
    },
    {
      "cell_type": "code",
      "execution_count": null,
      "metadata": {
        "id": "Bdg_5cuxc8KQ"
      },
      "outputs": [],
      "source": [
        "# 위에서 계산한 결측치 수를 reset_index 를 통해 데이터프레임으로 만들어 줍니다.\n",
        "# df_null_count 변수에 결과를 담아서 head 로 미리보기를 합니다.\n",
        "df_null_count = null_count.reset_index()\n",
        "\n",
        "df_null_count.head()"
      ]
    },
    {
      "cell_type": "markdown",
      "metadata": {
        "id": "XQjpBdAac8KQ"
      },
      "source": [
        "## 컬럼명 변경하기"
      ]
    },
    {
      "cell_type": "code",
      "execution_count": null,
      "metadata": {
        "id": "O079b6hlc8KQ"
      },
      "outputs": [],
      "source": [
        "# df_null_count 변수에 담겨있는 컬럼의 이름을 \"컬럼명\", \"결측치수\"로 변경해 줍니다.\n",
        "df_null_count.columns = [\"컬럼명\",\"결측치수\"]\n",
        "df_null_count.head()"
      ]
    },
    {
      "cell_type": "markdown",
      "metadata": {
        "id": "29AGRN4Ac8KQ"
      },
      "source": [
        "## 정렬하기"
      ]
    },
    {
      "cell_type": "code",
      "execution_count": null,
      "metadata": {
        "id": "JPUvLzuSc8KQ"
      },
      "outputs": [],
      "source": [
        "# df_null_count 데이터프레임에 있는 결측치수 컬럼을 sort_values 를 통해 정렬해서\n",
        "# 결측치가 많은 순으로 상위 10개만 출력합니다.\n",
        "df_null_count_top = df_null_count.sort_values(by=\"결측치수\",ascending=False).head(10)\n",
        "df_null_count_top"
      ]
    },
    {
      "cell_type": "markdown",
      "metadata": {
        "id": "8EntfZVBc8KQ"
      },
      "source": [
        "## 특정 컬럼만 불러오기"
      ]
    },
    {
      "cell_type": "code",
      "execution_count": null,
      "metadata": {
        "id": "ixbP9v1oc8KQ"
      },
      "outputs": [],
      "source": [
        "# NaN == Not a Number의 약자로 결측치를 의미함\n",
        "# 지점명 컬럼을 불러옵니다.\n",
        "df[\"지점명\"].head"
      ]
    },
    {
      "cell_type": "code",
      "execution_count": null,
      "metadata": {
        "id": "naD_7pUyc8KQ"
      },
      "outputs": [],
      "source": [
        "# \"컬럼명\" 이라는 컬럼의 값만 가져와서 drop_columns 라는 변수에 담습니다.\n",
        "drop_colums = df_null_count_top[\"컬럼명\"].tolist()\n",
        "drop_colums"
      ]
    },
    {
      "cell_type": "code",
      "execution_count": null,
      "metadata": {
        "id": "3Vx-0Dxrc8KQ"
      },
      "outputs": [],
      "source": [
        "# drop_columns 변수로 해당 컬럼 정보만 데이터프레임에서 가져옵니다.\n",
        "df[drop_colums].head()"
      ]
    },
    {
      "cell_type": "markdown",
      "metadata": {
        "id": "vcW4TCI7c8KQ"
      },
      "source": [
        "## 제거하기"
      ]
    },
    {
      "cell_type": "code",
      "execution_count": null,
      "metadata": {
        "id": "I-_sFTHic8KQ"
      },
      "outputs": [],
      "source": [
        "print(df.shape)\n",
        "df = df.drop(drop_colums,axis=1)\n",
        "print(df.shape)"
      ]
    },
    {
      "cell_type": "code",
      "execution_count": null,
      "metadata": {
        "id": "HeTKxjTec8KQ"
      },
      "outputs": [],
      "source": [
        "df.info() #info에 대한 모든 정보에 대해서 알려줌"
      ]
    },
    {
      "cell_type": "markdown",
      "metadata": {
        "id": "uwjJodZnc8KQ"
      },
      "source": [
        "## 기초 통계값 보기"
      ]
    },
    {
      "cell_type": "markdown",
      "metadata": {
        "id": "Yu-Fy3KVc8KQ"
      },
      "source": [
        "### 기초 통계 수치"
      ]
    },
    {
      "cell_type": "code",
      "execution_count": null,
      "metadata": {
        "id": "HqOQZG8Wc8KQ"
      },
      "outputs": [],
      "source": [
        "# 평균값\n",
        "df['위도'].mean()"
      ]
    },
    {
      "cell_type": "code",
      "execution_count": null,
      "metadata": {
        "id": "-oPq-AU4c8KQ"
      },
      "outputs": [],
      "source": [
        "# 중앙값\n",
        "df['위도'].median()"
      ]
    },
    {
      "cell_type": "code",
      "execution_count": null,
      "metadata": {
        "id": "y_zVD1VYc8KQ"
      },
      "outputs": [],
      "source": [
        "# 최댓값\n",
        "df['위도'].max"
      ]
    },
    {
      "cell_type": "code",
      "execution_count": null,
      "metadata": {
        "id": "5rT5EGBIc8KU"
      },
      "outputs": [],
      "source": [
        "# 최솟값\n",
        "df['위도'].min()"
      ]
    },
    {
      "cell_type": "code",
      "execution_count": null,
      "metadata": {
        "id": "ynTvKlZwc8KU"
      },
      "outputs": [],
      "source": [
        "# 개수\n",
        "df['위도'].count()"
      ]
    },
    {
      "cell_type": "markdown",
      "metadata": {
        "id": "T4R4gbfMc8KU"
      },
      "source": [
        "### 기초통계값 요약하기 - describe\n",
        "\n",
        "describe 를 사용하면 데이터를 요약해 볼 수 있습니다.\n",
        "기본적으로 수치형 데이터를 요약해서 보여줍니다.\n",
        "데이터의 갯수, 평균, 표준편차, 최솟값,\n",
        "1사분위수(25%), 2사분위수(50%), 3사분위수(75%), 최댓값을 볼 수 있습니다."
      ]
    },
    {
      "cell_type": "code",
      "execution_count": null,
      "metadata": {
        "id": "8lpCQsSnc8KU"
      },
      "outputs": [],
      "source": [
        "# 위도를 describe로 요약해 봅니다.\n",
        "df['위도'].describe()"
      ]
    },
    {
      "cell_type": "code",
      "execution_count": null,
      "metadata": {
        "id": "6K_u9ypzc8KU"
      },
      "outputs": [],
      "source": [
        "# 2개의 컬럼을 describe 로 요약합니다.\n",
        "df[['위도','경도']].describe()"
      ]
    },
    {
      "cell_type": "code",
      "execution_count": null,
      "metadata": {
        "id": "LjeuMY5Wc8KU",
        "scrolled": true
      },
      "outputs": [],
      "source": [
        "# describe로 문자열 데이터타입의 요약을 봅니다.\n",
        "df.describe(include='all')"
      ]
    },
    {
      "cell_type": "markdown",
      "metadata": {
        "id": "HhQ2kPZDc8KU"
      },
      "source": [
        "### 중복제거한 값 보기\n",
        "* unique 로 중복을 제거한 값을 보고 nunique 로 갯수를 세어봅니다."
      ]
    },
    {
      "cell_type": "code",
      "execution_count": null,
      "metadata": {
        "id": "WKDurHRXc8KU"
      },
      "outputs": [],
      "source": [
        "# \"상권업종대분류명\"\n",
        "df['상권업종대분류명'].unique()"
      ]
    },
    {
      "cell_type": "code",
      "execution_count": null,
      "metadata": {
        "id": "ixOPtaRLc8KU"
      },
      "outputs": [],
      "source": [
        "df['상권업종대분류명'].nunique()"
      ]
    },
    {
      "cell_type": "code",
      "execution_count": null,
      "metadata": {
        "id": "CML7bvrGc8KU"
      },
      "outputs": [],
      "source": [
        "# \"상권업종중분류명\"\n",
        "df['상권업종중분류명'].unique()"
      ]
    },
    {
      "cell_type": "code",
      "execution_count": null,
      "metadata": {
        "id": "hBZfHpQ5c8KU"
      },
      "outputs": [],
      "source": [
        "df['상권업종중분류명'].nunique()"
      ]
    },
    {
      "cell_type": "code",
      "execution_count": null,
      "metadata": {
        "id": "sIMn_aAPc8KU"
      },
      "outputs": [],
      "source": [
        "# \"상권업종소분류명\"\n",
        "df['상권업종소분류명'].unique()\n"
      ]
    },
    {
      "cell_type": "code",
      "execution_count": null,
      "metadata": {
        "id": "lPoQcMMEc8KU"
      },
      "outputs": [],
      "source": [
        "df['상권업종소분류명'].nunique()"
      ]
    },
    {
      "cell_type": "code",
      "execution_count": null,
      "metadata": {
        "id": "8hlzifuVc8KU"
      },
      "outputs": [],
      "source": [
        "# nunique 대신 len 을 사용할 수도 있습니다.\n",
        "(df['상권업종소분류명'].nunique())"
      ]
    },
    {
      "cell_type": "markdown",
      "metadata": {
        "id": "5eqeBJa9c8KU"
      },
      "source": [
        "### 그룹화된 요약값 보기 - value_counts\n",
        "* value_counts 를 사용하면 카테고리 형태의 데이터 갯수를 세어볼 수 있습니다."
      ]
    },
    {
      "cell_type": "code",
      "execution_count": null,
      "metadata": {
        "id": "WjfQ0VmQc8KU"
      },
      "outputs": [],
      "source": [
        "# value_counts 를 사용하면 카테고리 형태의 데이터 갯수를 세어볼 수 있습니다.\n",
        "# 시도코드를 세어봅니다.\n",
        "df['시도명'].head()"
      ]
    },
    {
      "cell_type": "code",
      "execution_count": null,
      "metadata": {
        "id": "7-I48Tpsc8KU"
      },
      "outputs": [],
      "source": [
        "# 시도명을 세어봅니다.\n",
        "df['시도명'].value_counts()"
      ]
    },
    {
      "cell_type": "code",
      "execution_count": null,
      "metadata": {
        "id": "ZByz4TRec8KU"
      },
      "outputs": [],
      "source": [
        "# normalize=True 옵션을 사용하면 비율을 구할 수 있습니다.\n",
        "city_normalize = df['시도명'].value_counts(normalize=True)\n",
        "city_normalize"
      ]
    },
    {
      "cell_type": "code",
      "execution_count": null,
      "metadata": {
        "id": "g2Or7DN4c8KU",
        "scrolled": true
      },
      "outputs": [],
      "source": [
        "# Pandas 에는 plot기능을 내장하고 있습니다.\n",
        "# 위에서 분석한 시도명 수를 막대그래프로 표현해 봅니다.\n",
        "city_normalize.plot.barh()"
      ]
    },
    {
      "cell_type": "code",
      "execution_count": null,
      "metadata": {
        "id": "W2xpgDATc8KV"
      },
      "outputs": [],
      "source": [
        "# 판다스의 plot.pie()를 사용해서 파이그래프를 그려봅니다.\n",
        "city_normalize.plot.pie(figsize = (10,10))"
      ]
    },
    {
      "cell_type": "code",
      "execution_count": null,
      "metadata": {
        "id": "gssMOcKwc8KV"
      },
      "outputs": [],
      "source": [
        "#seaborn의 countplot으로 그려봅니다.\n",
        "c = sns.countplot(data=df,y=\"시도명\")"
      ]
    },
    {
      "cell_type": "code",
      "execution_count": null,
      "metadata": {
        "id": "5L8BEXAyc8KV"
      },
      "outputs": [],
      "source": [
        "# \"상권업종대분류명\"으로 갯수를 세어봅니다.\n",
        "df['상권업종대분류명'].value_counts()"
      ]
    },
    {
      "cell_type": "code",
      "execution_count": null,
      "metadata": {
        "id": "hQn2lWSTc8KV"
      },
      "outputs": [],
      "source": [
        "# \"상권업종중분류명\"으로 갯수를 세어봅니다.\n",
        "c = df['상권업종중분류명'].value_counts()\n",
        "c"
      ]
    },
    {
      "cell_type": "code",
      "execution_count": null,
      "metadata": {
        "id": "_w5Hqpnvc8KV"
      },
      "outputs": [],
      "source": [
        "# normalize=True 를 사용해 비율을 구해봅니다.\n",
        "n = df['상권업종중분류명'].value_counts(normalize=True)\n",
        "n"
      ]
    },
    {
      "cell_type": "code",
      "execution_count": null,
      "metadata": {
        "id": "auKSnsUNc8KV"
      },
      "outputs": [],
      "source": [
        "# 판다스의 plot.bar()를 사용해서 막대그래프를 그려봅니다.\n",
        "c.plot.bar(rot=0)"
      ]
    },
    {
      "cell_type": "code",
      "execution_count": null,
      "metadata": {
        "id": "qUydCW4Bc8KV"
      },
      "outputs": [],
      "source": [
        "# 판다스의 plot.pie()를 사용해서 파이그래프를 그려봅니다.\n",
        "n.plot.pie()"
      ]
    },
    {
      "cell_type": "code",
      "execution_count": null,
      "metadata": {
        "id": "G0GzqEVNc8KV"
      },
      "outputs": [],
      "source": [
        "# \"상권업종소분류명\" 에 대한 그룹화 된 값을 카운트 합니다.\n",
        "c=df['상권업종소분류명'].value_counts()"
      ]
    },
    {
      "cell_type": "code",
      "execution_count": null,
      "metadata": {
        "id": "7sKk8YTdc8KV"
      },
      "outputs": [],
      "source": [
        "# \"상권업종소분류명\"으로 갯수를 세어봅니다.\n",
        "# 판다스의 plot.bar()를 사용해서 막대그래프를 그려봅니다.\n",
        "c.plot.barh(figsize =(7,8),grid = True)"
      ]
    },
    {
      "cell_type": "markdown",
      "metadata": {
        "id": "5u1lE-hCc8KV"
      },
      "source": [
        "## 데이터 색인하기\n",
        "* 특정 데이터만 모아서 따로 봅니다."
      ]
    },
    {
      "cell_type": "code",
      "execution_count": null,
      "metadata": {
        "id": "ZtoB_f9Rc8KV"
      },
      "outputs": [],
      "source": [
        "# \"상권업종중분류명\"이 \"약국/한약방\"인 데이터만 가져와서\n",
        "# df_medical 이라는 변수에 담아봅니다.\n",
        "# 그리고 head()를 통해 미리보기를 합니다.\n",
        "df_medical = df[df[\"상권업종중분류명\"] == \"약국/한약방\"].copy()\n",
        "df_medical.head(1)"
      ]
    },
    {
      "cell_type": "code",
      "execution_count": null,
      "metadata": {
        "id": "bwr7ubBGc8KV"
      },
      "outputs": [],
      "source": [
        "# \"상권업종대분류명\" 에서 \"의료\"만 가져옵니다.\n",
        "# df.loc를 사용하면 행,열을 함께 가져올 수 있습니다.\n",
        "# 이 기능을 통해 \"상권업종중분류명\" 만 가져옵니다.\n",
        "# 그리고 가져온 결과를 value_counts 를 통해 중분류의 갯수를 세어봅니다.\n",
        "# shop_type\n",
        "m = df[\"상권업종중분류명\"] == \"의료\"\n",
        "df.loc[m,\"상권업종중분류명\"].value_counts()"
      ]
    },
    {
      "cell_type": "code",
      "execution_count": null,
      "metadata": {
        "id": "cHcG5z8jc8KV"
      },
      "outputs": [],
      "source": [
        "# 위와 똑같은 기능을 수행하는 코드입니다. 아래와 같이 한 줄에 표현할 수도 있습니다.\n",
        "# df.loc[df[\"상권업종대분류명\"] == \"의료\", \"상권업종중분류명\"].value_counts()"
      ]
    },
    {
      "cell_type": "code",
      "execution_count": null,
      "metadata": {
        "id": "aREsfORFc8KV"
      },
      "outputs": [],
      "source": [
        "# 유사의료업만 따로 모아봅니다.\n",
        "df_medi = df[df[\"상권업종중분류명\"] == \"유사의료업\"]"
      ]
    },
    {
      "cell_type": "code",
      "execution_count": null,
      "metadata": {
        "id": "XgcJ2WZcc8KV"
      },
      "outputs": [],
      "source": [
        "# 상호명을 그룹화해서 갯수를 세어봅니다.\n",
        "# value_counts 를 사용해서 상위 10개를 출력합니다.\n",
        "df[\"상호명\"].value_counts().head(10)"
      ]
    },
    {
      "cell_type": "code",
      "execution_count": null,
      "metadata": {
        "id": "_JOIPCNxc8KV"
      },
      "outputs": [],
      "source": [
        "# 유사의료업만 df_medi 변수에 담겨져 있습니다.\n",
        "# df_medi 변수에서 상호명으로 갯수를 세어봅니다.\n",
        "# 가장 많은 상호 상위 10개를 출력해 봅니다.\n",
        "df_medi[\"상호명\"].value_counts().head()"
      ]
    },
    {
      "cell_type": "markdown",
      "metadata": {
        "id": "dyJrfMNmc8KV"
      },
      "source": [
        "### 여러 조건으로 색인하기"
      ]
    },
    {
      "cell_type": "code",
      "execution_count": null,
      "metadata": {
        "id": "erYXzWN3c8KV"
      },
      "outputs": [],
      "source": [
        "# \"상권업종소분류명\"이 \"약국\" 인 것과\n",
        "# \"시도명\" 이 \"서울특별시\"인 데이터만 가져옵니다.\n",
        "# df_seoul_drug\n",
        "\n",
        "df_seoul_drug = df[(df[\"상권업종소분류명\"] == \"약국\") & (df[\"시도명\"] ==\"서울특별시\")]\n",
        "print(df_seoul_drug.shape)\n",
        "df_seoul_drug.head(1)"
      ]
    },
    {
      "cell_type": "markdown",
      "metadata": {
        "id": "umTgME5Hc8KV"
      },
      "source": [
        "### 구별로 보기"
      ]
    },
    {
      "cell_type": "code",
      "execution_count": null,
      "metadata": {
        "id": "pQnBi1Cqc8KV"
      },
      "outputs": [],
      "source": [
        "# 위에서 색인한 데이터로 \"시군구명\"으로 그룹화 해서 갯수를 세어봅니다.\n",
        "# 구별로 약국이 몇개가 있는지 확인해 봅니다.\n",
        "c = df_seoul_drug[\"시군구명\"].value_counts()\n",
        "\n",
        "c.head()"
      ]
    },
    {
      "cell_type": "code",
      "execution_count": null,
      "metadata": {
        "id": "QqoQ0wdbc8KV"
      },
      "outputs": [],
      "source": [
        "# normalize=True 를 통해 비율을 구해봅니다.\n",
        "n = df_seoul_drug[\"시군구명\"].value_counts(normalize=True)\n",
        "\n",
        "n.head()"
      ]
    },
    {
      "cell_type": "code",
      "execution_count": null,
      "metadata": {
        "id": "mFA8QHMwc8KV"
      },
      "outputs": [],
      "source": [
        "# 위에서 구한 결과를 판다스의 plot.bar()를 활용해 막대그래프로 그립니다.\n",
        "c.plot.bar(rot=60)"
      ]
    },
    {
      "cell_type": "code",
      "execution_count": null,
      "metadata": {
        "id": "nmuft2Avc8KV"
      },
      "outputs": [],
      "source": [
        "# \"상권업종소분류명\"이 \"종합병원\" 인 것과\n",
        "# \"시도명\" 이 \"서울특별시\"인 데이터만 가져옵니다.\n",
        "# df_seoul_hospital\n",
        "\n",
        "df_seoul_hospital = df[(df[\"상권업종소분류명\"] == \"종합병원\") & (df[\"시도명\"] == \"서울특별시\")].copy()\n",
        "\n",
        "df_seoul_hospital"
      ]
    },
    {
      "cell_type": "code",
      "execution_count": null,
      "metadata": {
        "id": "AD32IDD5c8KW"
      },
      "outputs": [],
      "source": [
        "# \"시군구명\" 으로 그룹화 해서 구별로 종합병원의 수를 세어봅니다.\n",
        "df_seoul_hospital[\"시군구명\"].value_counts()"
      ]
    },
    {
      "cell_type": "markdown",
      "metadata": {
        "id": "lH5ePSdbc8KW"
      },
      "source": [
        "### 텍스트 데이터 색인하기"
      ]
    },
    {
      "cell_type": "code",
      "execution_count": null,
      "metadata": {
        "id": "La1STUuXc8KW"
      },
      "outputs": [],
      "source": [
        "# str.contains 를 사용해서 \"상호명\"에 \"대학병원\"이 들어가는 것을 가져와서 head()로 미리보기 합니다.\n",
        "df_seoul_hospital.loc[~df_seoul_hospital[\"상호명\"].str.contains(\"종합병원\"),\"상호명\"].unique()"
      ]
    },
    {
      "cell_type": "code",
      "execution_count": null,
      "metadata": {},
      "outputs": [],
      "source": [
        "df_seoul_hospital[df_seoul_hospital[\"상호명\"].str.contains(\"꽃배달\")]"
      ]
    },
    {
      "cell_type": "code",
      "execution_count": null,
      "metadata": {},
      "outputs": [],
      "source": [
        "df_seoul_hospital[df_seoul_hospital[\"상호명\"].str.contains(\"의료기\")]"
      ]
    },
    {
      "cell_type": "code",
      "execution_count": null,
      "metadata": {},
      "outputs": [],
      "source": [
        "drop_row = df_seoul_hospital[df_seoul_hospital[\"상호명\"].str.contains(\"꽃배달|의료기|장례식장|상담소|어린이집\")].index\n",
        "\n",
        "drop_row = drop_row.tolist()\n",
        "drop_row"
      ]
    },
    {
      "cell_type": "code",
      "execution_count": null,
      "metadata": {},
      "outputs": [],
      "source": [
        "drop_row2 = df_seoul_hospital[df_seoul_hospital[\"상호명\"].str.endswith(\"의원\")].index\n",
        "\n",
        "drop_row2 = drop_row2.tolist()\n",
        "drop_row2"
      ]
    },
    {
      "cell_type": "code",
      "execution_count": null,
      "metadata": {},
      "outputs": [],
      "source": [
        "drop_row = drop_row + drop_row2 \n",
        "len(drop_row)"
      ]
    },
    {
      "cell_type": "code",
      "execution_count": null,
      "metadata": {},
      "outputs": [],
      "source": [
        "print(df_seoul_hospital.shape)\n",
        "df_seoul_hospital= df_seoul_hospital.drop(drop_row,axis=0)\n",
        "print(df_seoul_hospital.shape)"
      ]
    },
    {
      "cell_type": "code",
      "execution_count": null,
      "metadata": {},
      "outputs": [],
      "source": [
        "df_seoul_hospital[\"시군구명\"].value_counts().plot.bar(rot=60)"
      ]
    },
    {
      "cell_type": "code",
      "execution_count": null,
      "metadata": {},
      "outputs": [],
      "source": [
        "plt.figure(figsize=(15,4))\n",
        "sns.countplot(data=df_seoul_hospital, x=\"시군구명\", palette=\"Set3\",order=df_seoul_hospital[\"시군구명\"].value_counts().index)"
      ]
    },
    {
      "cell_type": "code",
      "execution_count": null,
      "metadata": {},
      "outputs": [],
      "source": [
        "df_seoul_hospital[\"상호명\"].unique()"
      ]
    },
    {
      "cell_type": "code",
      "execution_count": null,
      "metadata": {
        "id": "PeBiiItDc8KW"
      },
      "outputs": [],
      "source": [
        "# str.startswith 를 사용해 \"서울\"로 시작하는 도로명주소를 가져와서 head()로 미리보기 합니다.\n"
      ]
    },
    {
      "cell_type": "code",
      "execution_count": null,
      "metadata": {
        "id": "9Sc-6-29c8KW"
      },
      "outputs": [],
      "source": [
        "# str.endswith를 사용해서 \"상호명\"이 \"병원\"으로 끝나는 데이터를 가져와서 head()로 미리보기 합니다.\n"
      ]
    },
    {
      "cell_type": "markdown",
      "metadata": {
        "id": "xbEKJYY0c8KW"
      },
      "source": [
        "### 특정 지역만 보기"
      ]
    },
    {
      "cell_type": "code",
      "execution_count": null,
      "metadata": {
        "id": "XPKoPL6-c8KW",
        "scrolled": true
      },
      "outputs": [],
      "source": [
        "# 서울에 있는 데이터의 위도와 경도를 봅니다.\n",
        "# 결과를 df_seoul 이라는 데이터프레임에 저장합니다.\n",
        "# 새로운 변수에 데이터프레임을 저장시 copy()를 사용합니다.\n",
        "# df_seoul\n",
        "df_seoul = df[df[\"시도명\"] == \"서울특별시\"].copy()\n",
        "\n",
        "df_seoul.shape"
      ]
    },
    {
      "cell_type": "code",
      "execution_count": null,
      "metadata": {
        "id": "OTTfMcYKc8KW"
      },
      "outputs": [],
      "source": [
        "# seaborn 의 countplot 을 사용해서 위에서 만든 df_seoul 데이터프레임의\n",
        "# 시군구명을 시각화 합니다.\n",
        "\n",
        "df_seoul[\"시군구명\"].value_counts().plot.bar(figsize =(10,4),rot=60)\n",
        "plt.figure(figsize=(10, 4))\n",
        "sns.countplot(data=df_seoul, x=\"시군구명\", palette=\"Set3\")"
      ]
    },
    {
      "cell_type": "code",
      "execution_count": null,
      "metadata": {
        "id": "P5QsYt5qc8KW"
      },
      "outputs": [],
      "source": [
        "# Pandas 의 plot.scatter 를 통해 경도와 위도를 표시해 봅니다.\n",
        "df_seoul[['경도','위도',\"시군구명\"]].plot.scatter(x='경도',y='위도',figsize=(8,7),grid=True)"
      ]
    },
    {
      "cell_type": "code",
      "execution_count": null,
      "metadata": {
        "id": "tNG-Qx8Xc8KW",
        "scrolled": false
      },
      "outputs": [],
      "source": [
        "# seaborn의 scatterplot 을 통해 구별 경도와 위도를 표시해 봅니다.\n",
        "plt.figure(figsize=(16, 12))\n",
        "sns.scatterplot(data=df_seoul, x=\"경도\", y=\"위도\", hue=\"시군구명\", palette=\"Set2\")"
      ]
    },
    {
      "cell_type": "code",
      "execution_count": null,
      "metadata": {
        "id": "uH6Y5fvdc8KX"
      },
      "outputs": [],
      "source": [
        "# seaborn의 scatterplot 을 통해 \"상권업종중분류명\" 경도와 위도를 표시해 봅니다.\n",
        "plt.figure(figsize=(16, 12))\n",
        "\n",
        "sns.scatterplot(data=df_seoul, x=\"경도\", y=\"위도\", hue=\"상권업종중분류명\", palette=\"Set2\")"
      ]
    },
    {
      "cell_type": "code",
      "execution_count": null,
      "metadata": {
        "id": "HvxgCShNc8KX",
        "scrolled": true
      },
      "outputs": [],
      "source": [
        "# seaborn의 scatterplot 을 통해 전국 데이터(df)로 구별 경도와 위도를 표시해 봅니다.\n",
        "plt.figure(figsize=(16, 12))\n",
        "sns.scatterplot(data=df, x=\"경도\", y=\"위도\", hue=\"시도명\", palette=\"Set2\")"
      ]
    },
    {
      "cell_type": "markdown",
      "metadata": {
        "id": "6o0bKNqBc8KX"
      },
      "source": [
        "\n",
        "## Folium 으로 지도 활용하기\n",
        "* 다음의 프롬프트 창을 열어 conda 명령어로 설치합니다.\n",
        "<img src=\"https://t1.daumcdn.net/cfile/tistory/99576B4A5B751DC902\">\n",
        "\n",
        "검은색 프롬프트 창에 아래 명령어를 통해 folium 을 설치합니다.\n",
        "\n",
        "\n",
        "`conda install -c conda-forge folium`\n",
        "\n",
        "### Folium 사용예제\n",
        "http://nbviewer.jupyter.org/github/python-visualization/folium/tree/main/examples/\n"
      ]
    },
    {
      "cell_type": "code",
      "execution_count": null,
      "metadata": {
        "id": "VF8FC-dOc8KX"
      },
      "outputs": [],
      "source": [
        "# 아나콘다에서 folium 을 사용하기 위해서는 별도의 설치가 필요\n",
        "# https://anaconda.org/conda-forge/folium\n",
        "# !conda install -c conda-forge folium -y\n",
        "# 지도 시각화를 위한 라이브러리\n",
        "import folium\n",
        "\n",
        "folium.Map()"
      ]
    },
    {
      "cell_type": "code",
      "execution_count": null,
      "metadata": {
        "id": "28ejg6z6c8KX"
      },
      "outputs": [],
      "source": [
        "# geo_df 에 df_seoul_hospital 을 copy() 로 복사해서 할당합니다.\n",
        "df_seoul_hospital[\"위도\"].mean()\n",
        "df_seoul_hospital[\"경도\"].mean()"
      ]
    },
    {
      "cell_type": "code",
      "execution_count": null,
      "metadata": {},
      "outputs": [],
      "source": []
    },
    {
      "cell_type": "code",
      "execution_count": 117,
      "metadata": {
        "id": "jUVO-M5-c8KX"
      },
      "outputs": [
        {
          "data": {
            "text/html": [
              "<div style=\"width:100%;\"><div style=\"position:relative;width:100%;height:0;padding-bottom:60%;\"><span style=\"color:#565656\">Make this Notebook Trusted to load map: File -> Trust Notebook</span><iframe srcdoc=\"&lt;!DOCTYPE html&gt;\n",
              "&lt;html&gt;\n",
              "&lt;head&gt;\n",
              "    \n",
              "    &lt;meta http-equiv=&quot;content-type&quot; content=&quot;text/html; charset=UTF-8&quot; /&gt;\n",
              "    \n",
              "        &lt;script&gt;\n",
              "            L_NO_TOUCH = false;\n",
              "            L_DISABLE_3D = false;\n",
              "        &lt;/script&gt;\n",
              "    \n",
              "    &lt;style&gt;html, body {width: 100%;height: 100%;margin: 0;padding: 0;}&lt;/style&gt;\n",
              "    &lt;style&gt;#map {position:absolute;top:0;bottom:0;right:0;left:0;}&lt;/style&gt;\n",
              "    &lt;script src=&quot;https://cdn.jsdelivr.net/npm/leaflet@1.9.3/dist/leaflet.js&quot;&gt;&lt;/script&gt;\n",
              "    &lt;script src=&quot;https://code.jquery.com/jquery-3.7.1.min.js&quot;&gt;&lt;/script&gt;\n",
              "    &lt;script src=&quot;https://cdn.jsdelivr.net/npm/bootstrap@5.2.2/dist/js/bootstrap.bundle.min.js&quot;&gt;&lt;/script&gt;\n",
              "    &lt;script src=&quot;https://cdnjs.cloudflare.com/ajax/libs/Leaflet.awesome-markers/2.0.2/leaflet.awesome-markers.js&quot;&gt;&lt;/script&gt;\n",
              "    &lt;link rel=&quot;stylesheet&quot; href=&quot;https://cdn.jsdelivr.net/npm/leaflet@1.9.3/dist/leaflet.css&quot;/&gt;\n",
              "    &lt;link rel=&quot;stylesheet&quot; href=&quot;https://cdn.jsdelivr.net/npm/bootstrap@5.2.2/dist/css/bootstrap.min.css&quot;/&gt;\n",
              "    &lt;link rel=&quot;stylesheet&quot; href=&quot;https://netdna.bootstrapcdn.com/bootstrap/3.0.0/css/bootstrap-glyphicons.css&quot;/&gt;\n",
              "    &lt;link rel=&quot;stylesheet&quot; href=&quot;https://cdn.jsdelivr.net/npm/@fortawesome/fontawesome-free@6.2.0/css/all.min.css&quot;/&gt;\n",
              "    &lt;link rel=&quot;stylesheet&quot; href=&quot;https://cdnjs.cloudflare.com/ajax/libs/Leaflet.awesome-markers/2.0.2/leaflet.awesome-markers.css&quot;/&gt;\n",
              "    &lt;link rel=&quot;stylesheet&quot; href=&quot;https://cdn.jsdelivr.net/gh/python-visualization/folium/folium/templates/leaflet.awesome.rotate.min.css&quot;/&gt;\n",
              "    \n",
              "            &lt;meta name=&quot;viewport&quot; content=&quot;width=device-width,\n",
              "                initial-scale=1.0, maximum-scale=1.0, user-scalable=no&quot; /&gt;\n",
              "            &lt;style&gt;\n",
              "                #map_8c386eee3f3a5bac3fa82ca11fd8e6e5 {\n",
              "                    position: relative;\n",
              "                    width: 100.0%;\n",
              "                    height: 100.0%;\n",
              "                    left: 0.0%;\n",
              "                    top: 0.0%;\n",
              "                }\n",
              "                .leaflet-container { font-size: 1rem; }\n",
              "            &lt;/style&gt;\n",
              "        \n",
              "&lt;/head&gt;\n",
              "&lt;body&gt;\n",
              "    \n",
              "    \n",
              "            &lt;div class=&quot;folium-map&quot; id=&quot;map_8c386eee3f3a5bac3fa82ca11fd8e6e5&quot; &gt;&lt;/div&gt;\n",
              "        \n",
              "&lt;/body&gt;\n",
              "&lt;script&gt;\n",
              "    \n",
              "    \n",
              "            var map_8c386eee3f3a5bac3fa82ca11fd8e6e5 = L.map(\n",
              "                &quot;map_8c386eee3f3a5bac3fa82ca11fd8e6e5&quot;,\n",
              "                {\n",
              "                    center: [37.52972276355593, 126.9963589356625],\n",
              "                    crs: L.CRS.EPSG3857,\n",
              "                    zoom: 12,\n",
              "                    zoomControl: true,\n",
              "                    preferCanvas: false,\n",
              "                }\n",
              "            );\n",
              "\n",
              "            \n",
              "\n",
              "        \n",
              "    \n",
              "            var tile_layer_dd883af2b1053a5d0d102a29e2fe3ad2 = L.tileLayer(\n",
              "                &quot;https://tile.openstreetmap.org/{z}/{x}/{y}.png&quot;,\n",
              "                {&quot;attribution&quot;: &quot;\\u0026copy; \\u003ca href=\\&quot;https://www.openstreetmap.org/copyright\\&quot;\\u003eOpenStreetMap\\u003c/a\\u003e contributors&quot;, &quot;detectRetina&quot;: false, &quot;maxNativeZoom&quot;: 19, &quot;maxZoom&quot;: 19, &quot;minZoom&quot;: 0, &quot;noWrap&quot;: false, &quot;opacity&quot;: 1, &quot;subdomains&quot;: &quot;abc&quot;, &quot;tms&quot;: false}\n",
              "            );\n",
              "        \n",
              "    \n",
              "            tile_layer_dd883af2b1053a5d0d102a29e2fe3ad2.addTo(map_8c386eee3f3a5bac3fa82ca11fd8e6e5);\n",
              "        \n",
              "    \n",
              "            var marker_0a81a4655715f0361840f13d8be04628 = L.marker(\n",
              "                [37.5590478066919, 127.088279358833],\n",
              "                {}\n",
              "            ).addTo(map_8c386eee3f3a5bac3fa82ca11fd8e6e5);\n",
              "        \n",
              "    \n",
              "        var popup_98463682ee4549475a9538d683e23d21 = L.popup({&quot;maxWidth&quot;: &quot;100%&quot;});\n",
              "\n",
              "        \n",
              "            \n",
              "                var html_4d76ba6588f0e851b597c2d3ad2fe2a9 = $(`&lt;div id=&quot;html_4d76ba6588f0e851b597c2d3ad2fe2a9&quot; style=&quot;width: 100.0%; height: 100.0%;&quot;&gt;대진의료재단-서울특별시 광진구 긴고랑로 119&lt;/div&gt;`)[0];\n",
              "                popup_98463682ee4549475a9538d683e23d21.setContent(html_4d76ba6588f0e851b597c2d3ad2fe2a9);\n",
              "            \n",
              "        \n",
              "\n",
              "        marker_0a81a4655715f0361840f13d8be04628.bindPopup(popup_98463682ee4549475a9538d683e23d21)\n",
              "        ;\n",
              "\n",
              "        \n",
              "    \n",
              "    \n",
              "            var marker_3ed2c1dea1ff7e80a2ded7767326aaae = L.marker(\n",
              "                [37.5292132863644, 126.862805128545],\n",
              "                {}\n",
              "            ).addTo(map_8c386eee3f3a5bac3fa82ca11fd8e6e5);\n",
              "        \n",
              "    \n",
              "        var popup_6807f9c869576d3ed668c34da2fcc3e3 = L.popup({&quot;maxWidth&quot;: &quot;100%&quot;});\n",
              "\n",
              "        \n",
              "            \n",
              "                var html_0f4b94cedb16ce19732557fd0b9add9d = $(`&lt;div id=&quot;html_0f4b94cedb16ce19732557fd0b9add9d&quot; style=&quot;width: 100.0%; height: 100.0%;&quot;&gt;홍익병원별관-서울특별시 양천구 국회대로 250&lt;/div&gt;`)[0];\n",
              "                popup_6807f9c869576d3ed668c34da2fcc3e3.setContent(html_0f4b94cedb16ce19732557fd0b9add9d);\n",
              "            \n",
              "        \n",
              "\n",
              "        marker_3ed2c1dea1ff7e80a2ded7767326aaae.bindPopup(popup_6807f9c869576d3ed668c34da2fcc3e3)\n",
              "        ;\n",
              "\n",
              "        \n",
              "    \n",
              "    \n",
              "            var marker_9d3b66d4c8c643f416e86de2a9a62a6c = L.marker(\n",
              "                [37.4996302661116, 127.035824788941],\n",
              "                {}\n",
              "            ).addTo(map_8c386eee3f3a5bac3fa82ca11fd8e6e5);\n",
              "        \n",
              "    \n",
              "        var popup_52ae58d9bfd5080d7844405569211d13 = L.popup({&quot;maxWidth&quot;: &quot;100%&quot;});\n",
              "\n",
              "        \n",
              "            \n",
              "                var html_f4b87c48c268f0ebb7dfc4383959b343 = $(`&lt;div id=&quot;html_f4b87c48c268f0ebb7dfc4383959b343&quot; style=&quot;width: 100.0%; height: 100.0%;&quot;&gt;SNUH-서울특별시 강남구 테헤란로26길 10&lt;/div&gt;`)[0];\n",
              "                popup_52ae58d9bfd5080d7844405569211d13.setContent(html_f4b87c48c268f0ebb7dfc4383959b343);\n",
              "            \n",
              "        \n",
              "\n",
              "        marker_9d3b66d4c8c643f416e86de2a9a62a6c.bindPopup(popup_52ae58d9bfd5080d7844405569211d13)\n",
              "        ;\n",
              "\n",
              "        \n",
              "    \n",
              "    \n",
              "            var marker_d72379637bfc0f97c396910c8bfa693d = L.marker(\n",
              "                [37.5594688006573, 127.041324711886],\n",
              "                {}\n",
              "            ).addTo(map_8c386eee3f3a5bac3fa82ca11fd8e6e5);\n",
              "        \n",
              "    \n",
              "        var popup_0656df11f3b6005bf93a6779eb97f456 = L.popup({&quot;maxWidth&quot;: &quot;100%&quot;});\n",
              "\n",
              "        \n",
              "            \n",
              "                var html_83e8991c15935e153cef32b2390e09b7 = $(`&lt;div id=&quot;html_83e8991c15935e153cef32b2390e09b7&quot; style=&quot;width: 100.0%; height: 100.0%;&quot;&gt;한양-서울특별시 성동구 마조로 22-2&lt;/div&gt;`)[0];\n",
              "                popup_0656df11f3b6005bf93a6779eb97f456.setContent(html_83e8991c15935e153cef32b2390e09b7);\n",
              "            \n",
              "        \n",
              "\n",
              "        marker_d72379637bfc0f97c396910c8bfa693d.bindPopup(popup_0656df11f3b6005bf93a6779eb97f456)\n",
              "        ;\n",
              "\n",
              "        \n",
              "    \n",
              "    \n",
              "            var marker_c59c12bd0711c2b22a05f78d9872d720 = L.marker(\n",
              "                [37.5422708098332, 127.125283411621],\n",
              "                {}\n",
              "            ).addTo(map_8c386eee3f3a5bac3fa82ca11fd8e6e5);\n",
              "        \n",
              "    \n",
              "        var popup_4c799024f416bd44ef2c7d3daee4caf9 = L.popup({&quot;maxWidth&quot;: &quot;100%&quot;});\n",
              "\n",
              "        \n",
              "            \n",
              "                var html_2084c4f03c49d17579a3431e5309f5ee = $(`&lt;div id=&quot;html_2084c4f03c49d17579a3431e5309f5ee&quot; style=&quot;width: 100.0%; height: 100.0%;&quot;&gt;백산의료재단친구병원-서울특별시 강동구 올림픽로 684&lt;/div&gt;`)[0];\n",
              "                popup_4c799024f416bd44ef2c7d3daee4caf9.setContent(html_2084c4f03c49d17579a3431e5309f5ee);\n",
              "            \n",
              "        \n",
              "\n",
              "        marker_c59c12bd0711c2b22a05f78d9872d720.bindPopup(popup_4c799024f416bd44ef2c7d3daee4caf9)\n",
              "        ;\n",
              "\n",
              "        \n",
              "    \n",
              "    \n",
              "            var marker_f3ac2fd34043899d969ddcba101e50b8 = L.marker(\n",
              "                [37.5284608782587, 127.147914226576],\n",
              "                {}\n",
              "            ).addTo(map_8c386eee3f3a5bac3fa82ca11fd8e6e5);\n",
              "        \n",
              "    \n",
              "        var popup_47cae36197127120eb1c4e46b01b5c70 = L.popup({&quot;maxWidth&quot;: &quot;100%&quot;});\n",
              "\n",
              "        \n",
              "            \n",
              "                var html_83342b8befbed078a37efb32008d66dd = $(`&lt;div id=&quot;html_83342b8befbed078a37efb32008d66dd&quot; style=&quot;width: 100.0%; height: 100.0%;&quot;&gt;서울보훈병원-서울특별시 강동구 진황도로61길 53&lt;/div&gt;`)[0];\n",
              "                popup_47cae36197127120eb1c4e46b01b5c70.setContent(html_83342b8befbed078a37efb32008d66dd);\n",
              "            \n",
              "        \n",
              "\n",
              "        marker_f3ac2fd34043899d969ddcba101e50b8.bindPopup(popup_47cae36197127120eb1c4e46b01b5c70)\n",
              "        ;\n",
              "\n",
              "        \n",
              "    \n",
              "    \n",
              "            var marker_70d52021f953e22607b4b72a62b9bc1f = L.marker(\n",
              "                [37.5000141135255, 127.036487118737],\n",
              "                {}\n",
              "            ).addTo(map_8c386eee3f3a5bac3fa82ca11fd8e6e5);\n",
              "        \n",
              "    \n",
              "        var popup_1642524520c708b9c76fd079dfdaa82c = L.popup({&quot;maxWidth&quot;: &quot;100%&quot;});\n",
              "\n",
              "        \n",
              "            \n",
              "                var html_80dbc658b2516a1863416540edb70507 = $(`&lt;div id=&quot;html_80dbc658b2516a1863416540edb70507&quot; style=&quot;width: 100.0%; height: 100.0%;&quot;&gt;서울대학교병원-서울특별시 강남구 테헤란로 152&lt;/div&gt;`)[0];\n",
              "                popup_1642524520c708b9c76fd079dfdaa82c.setContent(html_80dbc658b2516a1863416540edb70507);\n",
              "            \n",
              "        \n",
              "\n",
              "        marker_70d52021f953e22607b4b72a62b9bc1f.bindPopup(popup_1642524520c708b9c76fd079dfdaa82c)\n",
              "        ;\n",
              "\n",
              "        \n",
              "    \n",
              "    \n",
              "            var marker_3e8e68926058b0bfa8baa19a46c01c5e = L.marker(\n",
              "                [37.5617087895771, 126.999619848188],\n",
              "                {}\n",
              "            ).addTo(map_8c386eee3f3a5bac3fa82ca11fd8e6e5);\n",
              "        \n",
              "    \n",
              "        var popup_ff1d21aca6f03878ec113c4ffb02c1eb = L.popup({&quot;maxWidth&quot;: &quot;100%&quot;});\n",
              "\n",
              "        \n",
              "            \n",
              "                var html_724d373fe81e9a6f22e20be3fe7262ec = $(`&lt;div id=&quot;html_724d373fe81e9a6f22e20be3fe7262ec&quot; style=&quot;width: 100.0%; height: 100.0%;&quot;&gt;제일병원-서울특별시 중구 서애로1길 17&lt;/div&gt;`)[0];\n",
              "                popup_ff1d21aca6f03878ec113c4ffb02c1eb.setContent(html_724d373fe81e9a6f22e20be3fe7262ec);\n",
              "            \n",
              "        \n",
              "\n",
              "        marker_3e8e68926058b0bfa8baa19a46c01c5e.bindPopup(popup_ff1d21aca6f03878ec113c4ffb02c1eb)\n",
              "        ;\n",
              "\n",
              "        \n",
              "    \n",
              "    \n",
              "            var marker_a365020b833cf45c6091535eb1722bec = L.marker(\n",
              "                [37.4819075047515, 126.881567999979],\n",
              "                {}\n",
              "            ).addTo(map_8c386eee3f3a5bac3fa82ca11fd8e6e5);\n",
              "        \n",
              "    \n",
              "        var popup_2068e9462013fc04720ae3a19ec4ec87 = L.popup({&quot;maxWidth&quot;: &quot;100%&quot;});\n",
              "\n",
              "        \n",
              "            \n",
              "                var html_88a3079c92d84314513b06ddd404ccc5 = $(`&lt;div id=&quot;html_88a3079c92d84314513b06ddd404ccc5&quot; style=&quot;width: 100.0%; height: 100.0%;&quot;&gt;이랜드클리닉-서울특별시 금천구 가산디지털1로 186&lt;/div&gt;`)[0];\n",
              "                popup_2068e9462013fc04720ae3a19ec4ec87.setContent(html_88a3079c92d84314513b06ddd404ccc5);\n",
              "            \n",
              "        \n",
              "\n",
              "        marker_a365020b833cf45c6091535eb1722bec.bindPopup(popup_2068e9462013fc04720ae3a19ec4ec87)\n",
              "        ;\n",
              "\n",
              "        \n",
              "    \n",
              "    \n",
              "            var marker_c0d75626682b6f5afe185b69976576b3 = L.marker(\n",
              "                [37.5598884579046, 126.964069882556],\n",
              "                {}\n",
              "            ).addTo(map_8c386eee3f3a5bac3fa82ca11fd8e6e5);\n",
              "        \n",
              "    \n",
              "        var popup_5ea177400ac2fe7595a0988ab658989b = L.popup({&quot;maxWidth&quot;: &quot;100%&quot;});\n",
              "\n",
              "        \n",
              "            \n",
              "                var html_ad69a5c6864812bc19acd7d0091d2f62 = $(`&lt;div id=&quot;html_ad69a5c6864812bc19acd7d0091d2f62&quot; style=&quot;width: 100.0%; height: 100.0%;&quot;&gt;사랑나눔의료재단-서울특별시 서대문구 서소문로 21&lt;/div&gt;`)[0];\n",
              "                popup_5ea177400ac2fe7595a0988ab658989b.setContent(html_ad69a5c6864812bc19acd7d0091d2f62);\n",
              "            \n",
              "        \n",
              "\n",
              "        marker_c0d75626682b6f5afe185b69976576b3.bindPopup(popup_5ea177400ac2fe7595a0988ab658989b)\n",
              "        ;\n",
              "\n",
              "        \n",
              "    \n",
              "    \n",
              "            var marker_ee1547c91672e0d35fd47f9449528eea = L.marker(\n",
              "                [37.5884849860916, 127.031701809695],\n",
              "                {}\n",
              "            ).addTo(map_8c386eee3f3a5bac3fa82ca11fd8e6e5);\n",
              "        \n",
              "    \n",
              "        var popup_f7a5202d22804b84dbb77fabab168dbe = L.popup({&quot;maxWidth&quot;: &quot;100%&quot;});\n",
              "\n",
              "        \n",
              "            \n",
              "                var html_1200c63fdff725955ddadaf179cb84a6 = $(`&lt;div id=&quot;html_1200c63fdff725955ddadaf179cb84a6&quot; style=&quot;width: 100.0%; height: 100.0%;&quot;&gt;우울증센터-서울특별시 성북구 안암로 145&lt;/div&gt;`)[0];\n",
              "                popup_f7a5202d22804b84dbb77fabab168dbe.setContent(html_1200c63fdff725955ddadaf179cb84a6);\n",
              "            \n",
              "        \n",
              "\n",
              "        marker_ee1547c91672e0d35fd47f9449528eea.bindPopup(popup_f7a5202d22804b84dbb77fabab168dbe)\n",
              "        ;\n",
              "\n",
              "        \n",
              "    \n",
              "    \n",
              "            var marker_809fa4f98c7b26502f6ef46a69abe2ba = L.marker(\n",
              "                [37.5234259336424, 126.910305676076],\n",
              "                {}\n",
              "            ).addTo(map_8c386eee3f3a5bac3fa82ca11fd8e6e5);\n",
              "        \n",
              "    \n",
              "        var popup_02abdf6e2c62f2bb6f41766b41d62c9c = L.popup({&quot;maxWidth&quot;: &quot;100%&quot;});\n",
              "\n",
              "        \n",
              "            \n",
              "                var html_82bfe14c3a6ee1ec8b358aed546ddceb = $(`&lt;div id=&quot;html_82bfe14c3a6ee1ec8b358aed546ddceb&quot; style=&quot;width: 100.0%; height: 100.0%;&quot;&gt;성심의료재단-서울특별시 영등포구 버드나루로 55&lt;/div&gt;`)[0];\n",
              "                popup_02abdf6e2c62f2bb6f41766b41d62c9c.setContent(html_82bfe14c3a6ee1ec8b358aed546ddceb);\n",
              "            \n",
              "        \n",
              "\n",
              "        marker_809fa4f98c7b26502f6ef46a69abe2ba.bindPopup(popup_02abdf6e2c62f2bb6f41766b41d62c9c)\n",
              "        ;\n",
              "\n",
              "        \n",
              "    \n",
              "    \n",
              "            var marker_49d8880baf4793d06e70ceba01f2c6a5 = L.marker(\n",
              "                [37.4967193539591, 126.856953766995],\n",
              "                {}\n",
              "            ).addTo(map_8c386eee3f3a5bac3fa82ca11fd8e6e5);\n",
              "        \n",
              "    \n",
              "        var popup_d6d7a75524a33ce83aea1eb93f18b0e5 = L.popup({&quot;maxWidth&quot;: &quot;100%&quot;});\n",
              "\n",
              "        \n",
              "            \n",
              "                var html_7d019b2ef69e55da27ca0da72ddb5f67 = $(`&lt;div id=&quot;html_7d019b2ef69e55da27ca0da72ddb5f67&quot; style=&quot;width: 100.0%; height: 100.0%;&quot;&gt;다나의료재단-서울특별시 구로구 개봉로 126&lt;/div&gt;`)[0];\n",
              "                popup_d6d7a75524a33ce83aea1eb93f18b0e5.setContent(html_7d019b2ef69e55da27ca0da72ddb5f67);\n",
              "            \n",
              "        \n",
              "\n",
              "        marker_49d8880baf4793d06e70ceba01f2c6a5.bindPopup(popup_d6d7a75524a33ce83aea1eb93f18b0e5)\n",
              "        ;\n",
              "\n",
              "        \n",
              "    \n",
              "    \n",
              "            var marker_ad6ed7da58b571de4e1c19beb0e26f91 = L.marker(\n",
              "                [37.5252476485773, 127.109315275715],\n",
              "                {}\n",
              "            ).addTo(map_8c386eee3f3a5bac3fa82ca11fd8e6e5);\n",
              "        \n",
              "    \n",
              "        var popup_fabd47440c1b13a817e5aab2950844de = L.popup({&quot;maxWidth&quot;: &quot;100%&quot;});\n",
              "\n",
              "        \n",
              "            \n",
              "                var html_750cbbf1a2303edd7acbd1fd1c3c48b3 = $(`&lt;div id=&quot;html_750cbbf1a2303edd7acbd1fd1c3c48b3&quot; style=&quot;width: 100.0%; height: 100.0%;&quot;&gt;서울아산병원신관-서울특별시 송파구 올림픽로43길 88&lt;/div&gt;`)[0];\n",
              "                popup_fabd47440c1b13a817e5aab2950844de.setContent(html_750cbbf1a2303edd7acbd1fd1c3c48b3);\n",
              "            \n",
              "        \n",
              "\n",
              "        marker_ad6ed7da58b571de4e1c19beb0e26f91.bindPopup(popup_fabd47440c1b13a817e5aab2950844de)\n",
              "        ;\n",
              "\n",
              "        \n",
              "    \n",
              "    \n",
              "            var marker_50b80db7126449bde841540ab50dc7b3 = L.marker(\n",
              "                [37.4912085325475, 126.8846634435],\n",
              "                {}\n",
              "            ).addTo(map_8c386eee3f3a5bac3fa82ca11fd8e6e5);\n",
              "        \n",
              "    \n",
              "        var popup_ec168529e010fbcfaf8582dcd7f0994c = L.popup({&quot;maxWidth&quot;: &quot;100%&quot;});\n",
              "\n",
              "        \n",
              "            \n",
              "                var html_724d7107e1c08577b3ad75402980d0c7 = $(`&lt;div id=&quot;html_724d7107e1c08577b3ad75402980d0c7&quot; style=&quot;width: 100.0%; height: 100.0%;&quot;&gt;고려대학교구로병원-서울특별시 구로구 구로동로 148&lt;/div&gt;`)[0];\n",
              "                popup_ec168529e010fbcfaf8582dcd7f0994c.setContent(html_724d7107e1c08577b3ad75402980d0c7);\n",
              "            \n",
              "        \n",
              "\n",
              "        marker_50b80db7126449bde841540ab50dc7b3.bindPopup(popup_ec168529e010fbcfaf8582dcd7f0994c)\n",
              "        ;\n",
              "\n",
              "        \n",
              "    \n",
              "    \n",
              "            var marker_ca49cf74894a1314757751f798ecb7f7 = L.marker(\n",
              "                [37.5234259336424, 126.910305676076],\n",
              "                {}\n",
              "            ).addTo(map_8c386eee3f3a5bac3fa82ca11fd8e6e5);\n",
              "        \n",
              "    \n",
              "        var popup_36de52ceecfab7959e30b3e663b10587 = L.popup({&quot;maxWidth&quot;: &quot;100%&quot;});\n",
              "\n",
              "        \n",
              "            \n",
              "                var html_970010f3f6c37ec6d32bb23fbbaef6cd = $(`&lt;div id=&quot;html_970010f3f6c37ec6d32bb23fbbaef6cd&quot; style=&quot;width: 100.0%; height: 100.0%;&quot;&gt;학교법인일송학원-서울특별시 영등포구 버드나루로 55&lt;/div&gt;`)[0];\n",
              "                popup_36de52ceecfab7959e30b3e663b10587.setContent(html_970010f3f6c37ec6d32bb23fbbaef6cd);\n",
              "            \n",
              "        \n",
              "\n",
              "        marker_ca49cf74894a1314757751f798ecb7f7.bindPopup(popup_36de52ceecfab7959e30b3e663b10587)\n",
              "        ;\n",
              "\n",
              "        \n",
              "    \n",
              "    \n",
              "            var marker_b9341189662a72f0ec82504d28d47083 = L.marker(\n",
              "                [37.4544208148109, 126.901237040277],\n",
              "                {}\n",
              "            ).addTo(map_8c386eee3f3a5bac3fa82ca11fd8e6e5);\n",
              "        \n",
              "    \n",
              "        var popup_d8336c7869d2f7966a7fe374cbf2302a = L.popup({&quot;maxWidth&quot;: &quot;100%&quot;});\n",
              "\n",
              "        \n",
              "            \n",
              "                var html_b1e01708040d72e4fbd13208975b8a20 = $(`&lt;div id=&quot;html_b1e01708040d72e4fbd13208975b8a20&quot; style=&quot;width: 100.0%; height: 100.0%;&quot;&gt;희명스포츠의학센터인공신장실-서울특별시 금천구 시흥대로 230&lt;/div&gt;`)[0];\n",
              "                popup_d8336c7869d2f7966a7fe374cbf2302a.setContent(html_b1e01708040d72e4fbd13208975b8a20);\n",
              "            \n",
              "        \n",
              "\n",
              "        marker_b9341189662a72f0ec82504d28d47083.bindPopup(popup_d8336c7869d2f7966a7fe374cbf2302a)\n",
              "        ;\n",
              "\n",
              "        \n",
              "    \n",
              "    \n",
              "            var marker_6c681224a0fd7d54840084bb5f700c21 = L.marker(\n",
              "                [37.4927951351961, 127.046293864724],\n",
              "                {}\n",
              "            ).addTo(map_8c386eee3f3a5bac3fa82ca11fd8e6e5);\n",
              "        \n",
              "    \n",
              "        var popup_b03132d42a35e6369bdb5cb987654236 = L.popup({&quot;maxWidth&quot;: &quot;100%&quot;});\n",
              "\n",
              "        \n",
              "            \n",
              "                var html_349e8c291464b48b070f986ed9e89210 = $(`&lt;div id=&quot;html_349e8c291464b48b070f986ed9e89210&quot; style=&quot;width: 100.0%; height: 100.0%;&quot;&gt;연세대학교의과대학강남세브란스-서울특별시 강남구 언주로 211&lt;/div&gt;`)[0];\n",
              "                popup_b03132d42a35e6369bdb5cb987654236.setContent(html_349e8c291464b48b070f986ed9e89210);\n",
              "            \n",
              "        \n",
              "\n",
              "        marker_6c681224a0fd7d54840084bb5f700c21.bindPopup(popup_b03132d42a35e6369bdb5cb987654236)\n",
              "        ;\n",
              "\n",
              "        \n",
              "    \n",
              "    \n",
              "            var marker_0d742f6c02cbae72be8fed9d766c43e3 = L.marker(\n",
              "                [37.5653138819736, 127.086437154639],\n",
              "                {}\n",
              "            ).addTo(map_8c386eee3f3a5bac3fa82ca11fd8e6e5);\n",
              "        \n",
              "    \n",
              "        var popup_907f4c12a89f287677fbc58db4826ddd = L.popup({&quot;maxWidth&quot;: &quot;100%&quot;});\n",
              "\n",
              "        \n",
              "            \n",
              "                var html_44b9d2b9859a1e12a18e1bada1bfbc20 = $(`&lt;div id=&quot;html_44b9d2b9859a1e12a18e1bada1bfbc20&quot; style=&quot;width: 100.0%; height: 100.0%;&quot;&gt;국립정신병원-서울특별시 광진구 능동로 398&lt;/div&gt;`)[0];\n",
              "                popup_907f4c12a89f287677fbc58db4826ddd.setContent(html_44b9d2b9859a1e12a18e1bada1bfbc20);\n",
              "            \n",
              "        \n",
              "\n",
              "        marker_0d742f6c02cbae72be8fed9d766c43e3.bindPopup(popup_907f4c12a89f287677fbc58db4826ddd)\n",
              "        ;\n",
              "\n",
              "        \n",
              "    \n",
              "    \n",
              "            var marker_98379c8bb87cbbbdac3d6ff930f275a3 = L.marker(\n",
              "                [37.5041585815151, 127.052030646855],\n",
              "                {}\n",
              "            ).addTo(map_8c386eee3f3a5bac3fa82ca11fd8e6e5);\n",
              "        \n",
              "    \n",
              "        var popup_776acd3b69693dea2181b6374de1a13d = L.popup({&quot;maxWidth&quot;: &quot;100%&quot;});\n",
              "\n",
              "        \n",
              "            \n",
              "                var html_a5d27ad7afd2e2661a78d935bf947eb3 = $(`&lt;div id=&quot;html_a5d27ad7afd2e2661a78d935bf947eb3&quot; style=&quot;width: 100.0%; height: 100.0%;&quot;&gt;코아클리닉-서울특별시 강남구 선릉로86길 31&lt;/div&gt;`)[0];\n",
              "                popup_776acd3b69693dea2181b6374de1a13d.setContent(html_a5d27ad7afd2e2661a78d935bf947eb3);\n",
              "            \n",
              "        \n",
              "\n",
              "        marker_98379c8bb87cbbbdac3d6ff930f275a3.bindPopup(popup_776acd3b69693dea2181b6374de1a13d)\n",
              "        ;\n",
              "\n",
              "        \n",
              "    \n",
              "    \n",
              "            var marker_5cc6cb1a6fefa8f6f06d49a89b128874 = L.marker(\n",
              "                [37.6466791728505, 127.029043078213],\n",
              "                {}\n",
              "            ).addTo(map_8c386eee3f3a5bac3fa82ca11fd8e6e5);\n",
              "        \n",
              "    \n",
              "        var popup_2fbbe64d5094446f3d81182b484b3e3a = L.popup({&quot;maxWidth&quot;: &quot;100%&quot;});\n",
              "\n",
              "        \n",
              "            \n",
              "                var html_820348ffe52f40ef65fee8849b86e9f7 = $(`&lt;div id=&quot;html_820348ffe52f40ef65fee8849b86e9f7&quot; style=&quot;width: 100.0%; height: 100.0%;&quot;&gt;한국전력공사부속한일병원-서울특별시 도봉구 우이천로 308&lt;/div&gt;`)[0];\n",
              "                popup_2fbbe64d5094446f3d81182b484b3e3a.setContent(html_820348ffe52f40ef65fee8849b86e9f7);\n",
              "            \n",
              "        \n",
              "\n",
              "        marker_5cc6cb1a6fefa8f6f06d49a89b128874.bindPopup(popup_2fbbe64d5094446f3d81182b484b3e3a)\n",
              "        ;\n",
              "\n",
              "        \n",
              "    \n",
              "    \n",
              "            var marker_8ceabccb644b71fd8243ab54a0d5fac4 = L.marker(\n",
              "                [37.552351350337, 126.934217029717],\n",
              "                {}\n",
              "            ).addTo(map_8c386eee3f3a5bac3fa82ca11fd8e6e5);\n",
              "        \n",
              "    \n",
              "        var popup_399db5fbf0ea01ea585283e3ed7fb3ee = L.popup({&quot;maxWidth&quot;: &quot;100%&quot;});\n",
              "\n",
              "        \n",
              "            \n",
              "                var html_333495858c7948e8556dc91b24f1ff12 = $(`&lt;div id=&quot;html_333495858c7948e8556dc91b24f1ff12&quot; style=&quot;width: 100.0%; height: 100.0%;&quot;&gt;신촌연세병원-서울특별시 마포구 서강로14길 14&lt;/div&gt;`)[0];\n",
              "                popup_399db5fbf0ea01ea585283e3ed7fb3ee.setContent(html_333495858c7948e8556dc91b24f1ff12);\n",
              "            \n",
              "        \n",
              "\n",
              "        marker_8ceabccb644b71fd8243ab54a0d5fac4.bindPopup(popup_399db5fbf0ea01ea585283e3ed7fb3ee)\n",
              "        ;\n",
              "\n",
              "        \n",
              "    \n",
              "    \n",
              "            var marker_e555db9e58e87d2bd033ca990371f595 = L.marker(\n",
              "                [37.4927951351961, 127.046293864724],\n",
              "                {}\n",
              "            ).addTo(map_8c386eee3f3a5bac3fa82ca11fd8e6e5);\n",
              "        \n",
              "    \n",
              "        var popup_d419d8c0d4cb2d0db3d64f6c8ea900bb = L.popup({&quot;maxWidth&quot;: &quot;100%&quot;});\n",
              "\n",
              "        \n",
              "            \n",
              "                var html_acd602c1d43e58bcf1db863774cd21bd = $(`&lt;div id=&quot;html_acd602c1d43e58bcf1db863774cd21bd&quot; style=&quot;width: 100.0%; height: 100.0%;&quot;&gt;영동세브란스병원-서울특별시 강남구 언주로 211&lt;/div&gt;`)[0];\n",
              "                popup_d419d8c0d4cb2d0db3d64f6c8ea900bb.setContent(html_acd602c1d43e58bcf1db863774cd21bd);\n",
              "            \n",
              "        \n",
              "\n",
              "        marker_e555db9e58e87d2bd033ca990371f595.bindPopup(popup_d419d8c0d4cb2d0db3d64f6c8ea900bb)\n",
              "        ;\n",
              "\n",
              "        \n",
              "    \n",
              "    \n",
              "            var marker_9d097c0fc5684c2ab77a6313a04c34e3 = L.marker(\n",
              "                [37.5623763649704, 126.975546803857],\n",
              "                {}\n",
              "            ).addTo(map_8c386eee3f3a5bac3fa82ca11fd8e6e5);\n",
              "        \n",
              "    \n",
              "        var popup_d67c0d452253329234802b040a70fd4e = L.popup({&quot;maxWidth&quot;: &quot;100%&quot;});\n",
              "\n",
              "        \n",
              "            \n",
              "                var html_3d344844a5282758955a3a340f5ac142 = $(`&lt;div id=&quot;html_3d344844a5282758955a3a340f5ac142&quot; style=&quot;width: 100.0%; height: 100.0%;&quot;&gt;삼성의료재단강북삼성태-서울특별시 중구 세종대로 67&lt;/div&gt;`)[0];\n",
              "                popup_d67c0d452253329234802b040a70fd4e.setContent(html_3d344844a5282758955a3a340f5ac142);\n",
              "            \n",
              "        \n",
              "\n",
              "        marker_9d097c0fc5684c2ab77a6313a04c34e3.bindPopup(popup_d67c0d452253329234802b040a70fd4e)\n",
              "        ;\n",
              "\n",
              "        \n",
              "    \n",
              "    \n",
              "            var marker_4e36e4e32a342cfedbf01cb2b6681220 = L.marker(\n",
              "                [37.4929999195765, 126.924317993184],\n",
              "                {}\n",
              "            ).addTo(map_8c386eee3f3a5bac3fa82ca11fd8e6e5);\n",
              "        \n",
              "    \n",
              "        var popup_1d4f2ecc918f65ae40a90474665feb83 = L.popup({&quot;maxWidth&quot;: &quot;100%&quot;});\n",
              "\n",
              "        \n",
              "            \n",
              "                var html_fc5a827c6328728f41e6b46246eb35fb = $(`&lt;div id=&quot;html_fc5a827c6328728f41e6b46246eb35fb&quot; style=&quot;width: 100.0%; height: 100.0%;&quot;&gt;서울시립보라매병원-서울특별시 동작구 보라매로5길 20&lt;/div&gt;`)[0];\n",
              "                popup_1d4f2ecc918f65ae40a90474665feb83.setContent(html_fc5a827c6328728f41e6b46246eb35fb);\n",
              "            \n",
              "        \n",
              "\n",
              "        marker_4e36e4e32a342cfedbf01cb2b6681220.bindPopup(popup_1d4f2ecc918f65ae40a90474665feb83)\n",
              "        ;\n",
              "\n",
              "        \n",
              "    \n",
              "    \n",
              "            var marker_17c5af0e5490bbd0b382bb3a523826b7 = L.marker(\n",
              "                [37.5804478224547, 126.997184076959],\n",
              "                {}\n",
              "            ).addTo(map_8c386eee3f3a5bac3fa82ca11fd8e6e5);\n",
              "        \n",
              "    \n",
              "        var popup_e22c55783f210f81f0e776e269476461 = L.popup({&quot;maxWidth&quot;: &quot;100%&quot;});\n",
              "\n",
              "        \n",
              "            \n",
              "                var html_5c1b028a6f12bf6ba56be911bbe06d0d = $(`&lt;div id=&quot;html_5c1b028a6f12bf6ba56be911bbe06d0d&quot; style=&quot;width: 100.0%; height: 100.0%;&quot;&gt;서울대학교병원비상계획외래-서울특별시 종로구 대학로 101&lt;/div&gt;`)[0];\n",
              "                popup_e22c55783f210f81f0e776e269476461.setContent(html_5c1b028a6f12bf6ba56be911bbe06d0d);\n",
              "            \n",
              "        \n",
              "\n",
              "        marker_17c5af0e5490bbd0b382bb3a523826b7.bindPopup(popup_e22c55783f210f81f0e776e269476461)\n",
              "        ;\n",
              "\n",
              "        \n",
              "    \n",
              "    \n",
              "            var marker_a1013dd36968ad2fc52d093f35b3fcc6 = L.marker(\n",
              "                [37.5023822369311, 127.005840711554],\n",
              "                {}\n",
              "            ).addTo(map_8c386eee3f3a5bac3fa82ca11fd8e6e5);\n",
              "        \n",
              "    \n",
              "        var popup_7ec7116e43864b163d66fb5df53230c6 = L.popup({&quot;maxWidth&quot;: &quot;100%&quot;});\n",
              "\n",
              "        \n",
              "            \n",
              "                var html_9437dcf40cc9d73a399fbdf24569a59a = $(`&lt;div id=&quot;html_9437dcf40cc9d73a399fbdf24569a59a&quot; style=&quot;width: 100.0%; height: 100.0%;&quot;&gt;평화드림서울성모병원의료-서울특별시 서초구 반포대로 222&lt;/div&gt;`)[0];\n",
              "                popup_7ec7116e43864b163d66fb5df53230c6.setContent(html_9437dcf40cc9d73a399fbdf24569a59a);\n",
              "            \n",
              "        \n",
              "\n",
              "        marker_a1013dd36968ad2fc52d093f35b3fcc6.bindPopup(popup_7ec7116e43864b163d66fb5df53230c6)\n",
              "        ;\n",
              "\n",
              "        \n",
              "    \n",
              "    \n",
              "            var marker_04fe0c3051020888cebf3b29794e0a30 = L.marker(\n",
              "                [37.5287978094127, 126.863637341439],\n",
              "                {}\n",
              "            ).addTo(map_8c386eee3f3a5bac3fa82ca11fd8e6e5);\n",
              "        \n",
              "    \n",
              "        var popup_39a838ca69e99c6ac0b9c12ac164f215 = L.popup({&quot;maxWidth&quot;: &quot;100%&quot;});\n",
              "\n",
              "        \n",
              "            \n",
              "                var html_cc306eb23eac4328006cbefc07b81c65 = $(`&lt;div id=&quot;html_cc306eb23eac4328006cbefc07b81c65&quot; style=&quot;width: 100.0%; height: 100.0%;&quot;&gt;홍익병원-서울특별시 양천구 목동로 227&lt;/div&gt;`)[0];\n",
              "                popup_39a838ca69e99c6ac0b9c12ac164f215.setContent(html_cc306eb23eac4328006cbefc07b81c65);\n",
              "            \n",
              "        \n",
              "\n",
              "        marker_04fe0c3051020888cebf3b29794e0a30.bindPopup(popup_39a838ca69e99c6ac0b9c12ac164f215)\n",
              "        ;\n",
              "\n",
              "        \n",
              "    \n",
              "    \n",
              "            var marker_a211f2b5502ce7651efcd0dc16b06071 = L.marker(\n",
              "                [37.5598884579046, 126.964069882556],\n",
              "                {}\n",
              "            ).addTo(map_8c386eee3f3a5bac3fa82ca11fd8e6e5);\n",
              "        \n",
              "    \n",
              "        var popup_10f62092cb7cc9e19ddf4d24b99d9b29 = L.popup({&quot;maxWidth&quot;: &quot;100%&quot;});\n",
              "\n",
              "        \n",
              "            \n",
              "                var html_39c5b070c3a1ad0a62e1f56e9660f563 = $(`&lt;div id=&quot;html_39c5b070c3a1ad0a62e1f56e9660f563&quot; style=&quot;width: 100.0%; height: 100.0%;&quot;&gt;사랑나눔의료재단서-서울특별시 서대문구 서소문로 21&lt;/div&gt;`)[0];\n",
              "                popup_10f62092cb7cc9e19ddf4d24b99d9b29.setContent(html_39c5b070c3a1ad0a62e1f56e9660f563);\n",
              "            \n",
              "        \n",
              "\n",
              "        marker_a211f2b5502ce7651efcd0dc16b06071.bindPopup(popup_10f62092cb7cc9e19ddf4d24b99d9b29)\n",
              "        ;\n",
              "\n",
              "        \n",
              "    \n",
              "    \n",
              "            var marker_53e6ed0a513c21a56d599cfea5c5342d = L.marker(\n",
              "                [37.5848678247137, 127.031216512377],\n",
              "                {}\n",
              "            ).addTo(map_8c386eee3f3a5bac3fa82ca11fd8e6e5);\n",
              "        \n",
              "    \n",
              "        var popup_88cfe9c003609250bc92e82c5527b27a = L.popup({&quot;maxWidth&quot;: &quot;100%&quot;});\n",
              "\n",
              "        \n",
              "            \n",
              "                var html_a781ef821537f36672efd93955757bd6 = $(`&lt;div id=&quot;html_a781ef821537f36672efd93955757bd6&quot; style=&quot;width: 100.0%; height: 100.0%;&quot;&gt;우신향병원-서울특별시 성북구 안암로 99&lt;/div&gt;`)[0];\n",
              "                popup_88cfe9c003609250bc92e82c5527b27a.setContent(html_a781ef821537f36672efd93955757bd6);\n",
              "            \n",
              "        \n",
              "\n",
              "        marker_53e6ed0a513c21a56d599cfea5c5342d.bindPopup(popup_88cfe9c003609250bc92e82c5527b27a)\n",
              "        ;\n",
              "\n",
              "        \n",
              "    \n",
              "    \n",
              "            var marker_8035c0d176c84894f62d7c47fa8d8e8e = L.marker(\n",
              "                [37.6008223690353, 127.108596273171],\n",
              "                {}\n",
              "            ).addTo(map_8c386eee3f3a5bac3fa82ca11fd8e6e5);\n",
              "        \n",
              "    \n",
              "        var popup_22c00a67edb66339fac9803ec3c3cc98 = L.popup({&quot;maxWidth&quot;: &quot;100%&quot;});\n",
              "\n",
              "        \n",
              "            \n",
              "                var html_3d9551303b08f090a330a510a9826fc6 = $(`&lt;div id=&quot;html_3d9551303b08f090a330a510a9826fc6&quot; style=&quot;width: 100.0%; height: 100.0%;&quot;&gt;동부제일병원-서울특별시 중랑구 양원역로 2&lt;/div&gt;`)[0];\n",
              "                popup_22c00a67edb66339fac9803ec3c3cc98.setContent(html_3d9551303b08f090a330a510a9826fc6);\n",
              "            \n",
              "        \n",
              "\n",
              "        marker_8035c0d176c84894f62d7c47fa8d8e8e.bindPopup(popup_22c00a67edb66339fac9803ec3c3cc98)\n",
              "        ;\n",
              "\n",
              "        \n",
              "    \n",
              "    \n",
              "            var marker_8f1d88aeb69f7390eb91e8463b33cad2 = L.marker(\n",
              "                [37.5176743373002, 126.982708013371],\n",
              "                {}\n",
              "            ).addTo(map_8c386eee3f3a5bac3fa82ca11fd8e6e5);\n",
              "        \n",
              "    \n",
              "        var popup_ecf648b358acbc2c31f1cf7c9d6b5b5d = L.popup({&quot;maxWidth&quot;: &quot;100%&quot;});\n",
              "\n",
              "        \n",
              "            \n",
              "                var html_41c6f58d3025b4854e8365e56ec27811 = $(`&lt;div id=&quot;html_41c6f58d3025b4854e8365e56ec27811&quot; style=&quot;width: 100.0%; height: 100.0%;&quot;&gt;아산재단금강병원-서울특별시 용산구 이촌로 318&lt;/div&gt;`)[0];\n",
              "                popup_ecf648b358acbc2c31f1cf7c9d6b5b5d.setContent(html_41c6f58d3025b4854e8365e56ec27811);\n",
              "            \n",
              "        \n",
              "\n",
              "        marker_8f1d88aeb69f7390eb91e8463b33cad2.bindPopup(popup_ecf648b358acbc2c31f1cf7c9d6b5b5d)\n",
              "        ;\n",
              "\n",
              "        \n",
              "    \n",
              "    \n",
              "            var marker_4d7d3a340d29c0323a135314874b1f16 = L.marker(\n",
              "                [37.5196687602895, 126.901570561173],\n",
              "                {}\n",
              "            ).addTo(map_8c386eee3f3a5bac3fa82ca11fd8e6e5);\n",
              "        \n",
              "    \n",
              "        var popup_5ff78f5f39f8e2704586ed17cda714c5 = L.popup({&quot;maxWidth&quot;: &quot;100%&quot;});\n",
              "\n",
              "        \n",
              "            \n",
              "                var html_7b8ae0407e0650a51a368f7ff3c2ff46 = $(`&lt;div id=&quot;html_7b8ae0407e0650a51a368f7ff3c2ff46&quot; style=&quot;width: 100.0%; height: 100.0%;&quot;&gt;명곡안연구소-서울특별시 영등포구 영신로 136&lt;/div&gt;`)[0];\n",
              "                popup_5ff78f5f39f8e2704586ed17cda714c5.setContent(html_7b8ae0407e0650a51a368f7ff3c2ff46);\n",
              "            \n",
              "        \n",
              "\n",
              "        marker_4d7d3a340d29c0323a135314874b1f16.bindPopup(popup_5ff78f5f39f8e2704586ed17cda714c5)\n",
              "        ;\n",
              "\n",
              "        \n",
              "    \n",
              "    \n",
              "            var marker_8c1e75d6094724cacaa0843e43d3fc44 = L.marker(\n",
              "                [37.5252476485773, 127.109315275715],\n",
              "                {}\n",
              "            ).addTo(map_8c386eee3f3a5bac3fa82ca11fd8e6e5);\n",
              "        \n",
              "    \n",
              "        var popup_20d57ac8e13b820cab2037b9e82423c3 = L.popup({&quot;maxWidth&quot;: &quot;100%&quot;});\n",
              "\n",
              "        \n",
              "            \n",
              "                var html_047f829dc4223c7ccf11476debec8bc0 = $(`&lt;div id=&quot;html_047f829dc4223c7ccf11476debec8bc0&quot; style=&quot;width: 100.0%; height: 100.0%;&quot;&gt;아산재단서울중앙병원-서울특별시 송파구 올림픽로43길 88&lt;/div&gt;`)[0];\n",
              "                popup_20d57ac8e13b820cab2037b9e82423c3.setContent(html_047f829dc4223c7ccf11476debec8bc0);\n",
              "            \n",
              "        \n",
              "\n",
              "        marker_8c1e75d6094724cacaa0843e43d3fc44.bindPopup(popup_20d57ac8e13b820cab2037b9e82423c3)\n",
              "        ;\n",
              "\n",
              "        \n",
              "    \n",
              "    \n",
              "            var marker_bfd03de5627509032f218a489060c296 = L.marker(\n",
              "                [37.5372508450536, 126.827821479527],\n",
              "                {}\n",
              "            ).addTo(map_8c386eee3f3a5bac3fa82ca11fd8e6e5);\n",
              "        \n",
              "    \n",
              "        var popup_7c5d8d667894446e6ae486a77d137ec0 = L.popup({&quot;maxWidth&quot;: &quot;100%&quot;});\n",
              "\n",
              "        \n",
              "            \n",
              "                var html_0b8df645747f5e965fbb28b4f0f7bae8 = $(`&lt;div id=&quot;html_0b8df645747f5e965fbb28b4f0f7bae8&quot; style=&quot;width: 100.0%; height: 100.0%;&quot;&gt;메디힐특수여객-서울특별시 양천구 남부순환로 331&lt;/div&gt;`)[0];\n",
              "                popup_7c5d8d667894446e6ae486a77d137ec0.setContent(html_0b8df645747f5e965fbb28b4f0f7bae8);\n",
              "            \n",
              "        \n",
              "\n",
              "        marker_bfd03de5627509032f218a489060c296.bindPopup(popup_7c5d8d667894446e6ae486a77d137ec0)\n",
              "        ;\n",
              "\n",
              "        \n",
              "    \n",
              "    \n",
              "            var marker_5a997e80afb57c01e7f6e79eef09400a = L.marker(\n",
              "                [37.4903343408695, 127.089578831632],\n",
              "                {}\n",
              "            ).addTo(map_8c386eee3f3a5bac3fa82ca11fd8e6e5);\n",
              "        \n",
              "    \n",
              "        var popup_de314821afe722ee2be61d9c38c852a3 = L.popup({&quot;maxWidth&quot;: &quot;100%&quot;});\n",
              "\n",
              "        \n",
              "            \n",
              "                var html_ba51f5e9916e6e8a5bfd782e71feb37b = $(`&lt;div id=&quot;html_ba51f5e9916e6e8a5bfd782e71feb37b&quot; style=&quot;width: 100.0%; height: 100.0%;&quot;&gt;삼성생명공익재단삼성서-서울특별시 강남구 일원로 81&lt;/div&gt;`)[0];\n",
              "                popup_de314821afe722ee2be61d9c38c852a3.setContent(html_ba51f5e9916e6e8a5bfd782e71feb37b);\n",
              "            \n",
              "        \n",
              "\n",
              "        marker_5a997e80afb57c01e7f6e79eef09400a.bindPopup(popup_de314821afe722ee2be61d9c38c852a3)\n",
              "        ;\n",
              "\n",
              "        \n",
              "    \n",
              "    \n",
              "            var marker_278a389c354cb820bf6e9c1d765d1740 = L.marker(\n",
              "                [37.5068404935954, 127.034940318209],\n",
              "                {}\n",
              "            ).addTo(map_8c386eee3f3a5bac3fa82ca11fd8e6e5);\n",
              "        \n",
              "    \n",
              "        var popup_c344d49242386b3ada57d2178cd0dad0 = L.popup({&quot;maxWidth&quot;: &quot;100%&quot;});\n",
              "\n",
              "        \n",
              "            \n",
              "                var html_95f1d16f3b0b9f3814eb4ddb869f9ff1 = $(`&lt;div id=&quot;html_95f1d16f3b0b9f3814eb4ddb869f9ff1&quot; style=&quot;width: 100.0%; height: 100.0%;&quot;&gt;성광의료재단차병원-서울특별시 강남구 논현로 566&lt;/div&gt;`)[0];\n",
              "                popup_c344d49242386b3ada57d2178cd0dad0.setContent(html_95f1d16f3b0b9f3814eb4ddb869f9ff1);\n",
              "            \n",
              "        \n",
              "\n",
              "        marker_278a389c354cb820bf6e9c1d765d1740.bindPopup(popup_c344d49242386b3ada57d2178cd0dad0)\n",
              "        ;\n",
              "\n",
              "        \n",
              "    \n",
              "    \n",
              "            var marker_8ba26afffa40e6849825982ad573924d = L.marker(\n",
              "                [37.5167119999205, 127.105389605001],\n",
              "                {}\n",
              "            ).addTo(map_8c386eee3f3a5bac3fa82ca11fd8e6e5);\n",
              "        \n",
              "    \n",
              "        var popup_ec6e77509dafd2a3570c400bbdb3fcc9 = L.popup({&quot;maxWidth&quot;: &quot;100%&quot;});\n",
              "\n",
              "        \n",
              "            \n",
              "                var html_32d39e607e53becd06a1c9623583aa30 = $(`&lt;div id=&quot;html_32d39e607e53becd06a1c9623583aa30&quot; style=&quot;width: 100.0%; height: 100.0%;&quot;&gt;한국건강관리협회서울특-서울특별시 송파구 오금로 58&lt;/div&gt;`)[0];\n",
              "                popup_ec6e77509dafd2a3570c400bbdb3fcc9.setContent(html_32d39e607e53becd06a1c9623583aa30);\n",
              "            \n",
              "        \n",
              "\n",
              "        marker_8ba26afffa40e6849825982ad573924d.bindPopup(popup_ec6e77509dafd2a3570c400bbdb3fcc9)\n",
              "        ;\n",
              "\n",
              "        \n",
              "    \n",
              "    \n",
              "            var marker_16b388a008bd9a44f5b7e6ba8956f0ea = L.marker(\n",
              "                [37.5122416439178, 127.008209768382],\n",
              "                {}\n",
              "            ).addTo(map_8c386eee3f3a5bac3fa82ca11fd8e6e5);\n",
              "        \n",
              "    \n",
              "        var popup_a265d705e40bf4ebb7461ba85b8f20a4 = L.popup({&quot;maxWidth&quot;: &quot;100%&quot;});\n",
              "\n",
              "        \n",
              "            \n",
              "                var html_b0a31dfd88afc5468588a8ade22db51d = $(`&lt;div id=&quot;html_b0a31dfd88afc5468588a8ade22db51d&quot; style=&quot;width: 100.0%; height: 100.0%;&quot;&gt;정해복지부설한신메디피아-서울특별시 서초구 잠원로 88&lt;/div&gt;`)[0];\n",
              "                popup_a265d705e40bf4ebb7461ba85b8f20a4.setContent(html_b0a31dfd88afc5468588a8ade22db51d);\n",
              "            \n",
              "        \n",
              "\n",
              "        marker_16b388a008bd9a44f5b7e6ba8956f0ea.bindPopup(popup_a265d705e40bf4ebb7461ba85b8f20a4)\n",
              "        ;\n",
              "\n",
              "        \n",
              "    \n",
              "    \n",
              "            var marker_31b215461bebde18691e872f172300c5 = L.marker(\n",
              "                [37.4853552935161, 127.037760918725],\n",
              "                {}\n",
              "            ).addTo(map_8c386eee3f3a5bac3fa82ca11fd8e6e5);\n",
              "        \n",
              "    \n",
              "        var popup_48ab6150164638bb42aafe5c9219629b = L.popup({&quot;maxWidth&quot;: &quot;100%&quot;});\n",
              "\n",
              "        \n",
              "            \n",
              "                var html_9e91854c6c0e25ebae0dbdf23d6e7a35 = $(`&lt;div id=&quot;html_9e91854c6c0e25ebae0dbdf23d6e7a35&quot; style=&quot;width: 100.0%; height: 100.0%;&quot;&gt;성베드로병원-서울특별시 강남구 남부순환로 2633&lt;/div&gt;`)[0];\n",
              "                popup_48ab6150164638bb42aafe5c9219629b.setContent(html_9e91854c6c0e25ebae0dbdf23d6e7a35);\n",
              "            \n",
              "        \n",
              "\n",
              "        marker_31b215461bebde18691e872f172300c5.bindPopup(popup_48ab6150164638bb42aafe5c9219629b)\n",
              "        ;\n",
              "\n",
              "        \n",
              "    \n",
              "    \n",
              "            var marker_8792c9c23a68e83295c694f045724717 = L.marker(\n",
              "                [37.512039105313, 126.922348105416],\n",
              "                {}\n",
              "            ).addTo(map_8c386eee3f3a5bac3fa82ca11fd8e6e5);\n",
              "        \n",
              "    \n",
              "        var popup_187c22af9f64c582dd3369b3a069b7f6 = L.popup({&quot;maxWidth&quot;: &quot;100%&quot;});\n",
              "\n",
              "        \n",
              "            \n",
              "                var html_9eabf480c93f31cf95fc372735c904d8 = $(`&lt;div id=&quot;html_9eabf480c93f31cf95fc372735c904d8&quot; style=&quot;width: 100.0%; height: 100.0%;&quot;&gt;성애의료재단-서울특별시 영등포구 여의대방로53길 22&lt;/div&gt;`)[0];\n",
              "                popup_187c22af9f64c582dd3369b3a069b7f6.setContent(html_9eabf480c93f31cf95fc372735c904d8);\n",
              "            \n",
              "        \n",
              "\n",
              "        marker_8792c9c23a68e83295c694f045724717.bindPopup(popup_187c22af9f64c582dd3369b3a069b7f6)\n",
              "        ;\n",
              "\n",
              "        \n",
              "    \n",
              "    \n",
              "            var marker_9f567c57c71b7126ed2ed3b829039767 = L.marker(\n",
              "                [37.5086261318378, 127.058579717648],\n",
              "                {}\n",
              "            ).addTo(map_8c386eee3f3a5bac3fa82ca11fd8e6e5);\n",
              "        \n",
              "    \n",
              "        var popup_8e1de9e9ec9ec4675cea483aed8328db = L.popup({&quot;maxWidth&quot;: &quot;100%&quot;});\n",
              "\n",
              "        \n",
              "            \n",
              "                var html_027511ceaa20510d4c66171e80c4192c = $(`&lt;div id=&quot;html_027511ceaa20510d4c66171e80c4192c&quot; style=&quot;width: 100.0%; height: 100.0%;&quot;&gt;Y&amp;T성모마취과-서울특별시 강남구 테헤란로87길 13&lt;/div&gt;`)[0];\n",
              "                popup_8e1de9e9ec9ec4675cea483aed8328db.setContent(html_027511ceaa20510d4c66171e80c4192c);\n",
              "            \n",
              "        \n",
              "\n",
              "        marker_9f567c57c71b7126ed2ed3b829039767.bindPopup(popup_8e1de9e9ec9ec4675cea483aed8328db)\n",
              "        ;\n",
              "\n",
              "        \n",
              "    \n",
              "    \n",
              "            var marker_70018f6c74d14365c9e09e09d606efa1 = L.marker(\n",
              "                [37.5594460483099, 126.968082757311],\n",
              "                {}\n",
              "            ).addTo(map_8c386eee3f3a5bac3fa82ca11fd8e6e5);\n",
              "        \n",
              "    \n",
              "        var popup_6528dd7c2137adb1cd0bbc16c94e21d3 = L.popup({&quot;maxWidth&quot;: &quot;100%&quot;});\n",
              "\n",
              "        \n",
              "            \n",
              "                var html_74e06970951341807a4635e07bb60e97 = $(`&lt;div id=&quot;html_74e06970951341807a4635e07bb60e97&quot; style=&quot;width: 100.0%; height: 100.0%;&quot;&gt;영남의료재단-서울특별시 중구 청파로 449-1&lt;/div&gt;`)[0];\n",
              "                popup_6528dd7c2137adb1cd0bbc16c94e21d3.setContent(html_74e06970951341807a4635e07bb60e97);\n",
              "            \n",
              "        \n",
              "\n",
              "        marker_70018f6c74d14365c9e09e09d606efa1.bindPopup(popup_6528dd7c2137adb1cd0bbc16c94e21d3)\n",
              "        ;\n",
              "\n",
              "        \n",
              "    \n",
              "    \n",
              "            var marker_99a1af8a50c90fc811e1a58e8d9bc914 = L.marker(\n",
              "                [37.5648230830575, 126.988655039413],\n",
              "                {}\n",
              "            ).addTo(map_8c386eee3f3a5bac3fa82ca11fd8e6e5);\n",
              "        \n",
              "    \n",
              "        var popup_d9fc52756231303c98d3bedbeaeb726b = L.popup({&quot;maxWidth&quot;: &quot;100%&quot;});\n",
              "\n",
              "        \n",
              "            \n",
              "                var html_9b71a2ca1930fdf3768f11fbdef65eec = $(`&lt;div id=&quot;html_9b71a2ca1930fdf3768f11fbdef65eec&quot; style=&quot;width: 100.0%; height: 100.0%;&quot;&gt;인제대학교서울백병원-서울특별시 중구 마른내로 9&lt;/div&gt;`)[0];\n",
              "                popup_d9fc52756231303c98d3bedbeaeb726b.setContent(html_9b71a2ca1930fdf3768f11fbdef65eec);\n",
              "            \n",
              "        \n",
              "\n",
              "        marker_99a1af8a50c90fc811e1a58e8d9bc914.bindPopup(popup_d9fc52756231303c98d3bedbeaeb726b)\n",
              "        ;\n",
              "\n",
              "        \n",
              "    \n",
              "    \n",
              "            var marker_1b29b4eac44d787505dc7e0bf4bc222c = L.marker(\n",
              "                [37.5278109120341, 127.127997905164],\n",
              "                {}\n",
              "            ).addTo(map_8c386eee3f3a5bac3fa82ca11fd8e6e5);\n",
              "        \n",
              "    \n",
              "        var popup_e47a4a26e66948a7e4bcacaef230686b = L.popup({&quot;maxWidth&quot;: &quot;100%&quot;});\n",
              "\n",
              "        \n",
              "            \n",
              "                var html_dc2ac257b0f80d43f7779ee392db35eb = $(`&lt;div id=&quot;html_dc2ac257b0f80d43f7779ee392db35eb&quot; style=&quot;width: 100.0%; height: 100.0%;&quot;&gt;한국필의료재단-서울특별시 강동구 성내로 71&lt;/div&gt;`)[0];\n",
              "                popup_e47a4a26e66948a7e4bcacaef230686b.setContent(html_dc2ac257b0f80d43f7779ee392db35eb);\n",
              "            \n",
              "        \n",
              "\n",
              "        marker_1b29b4eac44d787505dc7e0bf4bc222c.bindPopup(popup_e47a4a26e66948a7e4bcacaef230686b)\n",
              "        ;\n",
              "\n",
              "        \n",
              "    \n",
              "    \n",
              "            var marker_fcfb5605ba95dd86b85f13e9c113e26c = L.marker(\n",
              "                [37.4796175819587, 126.956269598806],\n",
              "                {}\n",
              "            ).addTo(map_8c386eee3f3a5bac3fa82ca11fd8e6e5);\n",
              "        \n",
              "    \n",
              "        var popup_c515f6969ad66ff7cb474f5a2372ee6f = L.popup({&quot;maxWidth&quot;: &quot;100%&quot;});\n",
              "\n",
              "        \n",
              "            \n",
              "                var html_2ad76fcb145f977b6fe7aebfe88860ca = $(`&lt;div id=&quot;html_2ad76fcb145f977b6fe7aebfe88860ca&quot; style=&quot;width: 100.0%; height: 100.0%;&quot;&gt;사랑의병원-서울특별시 관악구 남부순환로 1860&lt;/div&gt;`)[0];\n",
              "                popup_c515f6969ad66ff7cb474f5a2372ee6f.setContent(html_2ad76fcb145f977b6fe7aebfe88860ca);\n",
              "            \n",
              "        \n",
              "\n",
              "        marker_fcfb5605ba95dd86b85f13e9c113e26c.bindPopup(popup_c515f6969ad66ff7cb474f5a2372ee6f)\n",
              "        ;\n",
              "\n",
              "        \n",
              "    \n",
              "    \n",
              "            var marker_895654b0ee7b7a259215808fd47912d6 = L.marker(\n",
              "                [37.5522155545206, 126.835871375905],\n",
              "                {}\n",
              "            ).addTo(map_8c386eee3f3a5bac3fa82ca11fd8e6e5);\n",
              "        \n",
              "    \n",
              "        var popup_cba56215b2d0bb1e9dc0135c27da0b54 = L.popup({&quot;maxWidth&quot;: &quot;100%&quot;});\n",
              "\n",
              "        \n",
              "            \n",
              "                var html_03c37da2724f8143bf239618c3231248 = $(`&lt;div id=&quot;html_03c37da2724f8143bf239618c3231248&quot; style=&quot;width: 100.0%; height: 100.0%;&quot;&gt;성삼의료재단미즈메디병원-서울특별시 강서구 강서로 295&lt;/div&gt;`)[0];\n",
              "                popup_cba56215b2d0bb1e9dc0135c27da0b54.setContent(html_03c37da2724f8143bf239618c3231248);\n",
              "            \n",
              "        \n",
              "\n",
              "        marker_895654b0ee7b7a259215808fd47912d6.bindPopup(popup_cba56215b2d0bb1e9dc0135c27da0b54)\n",
              "        ;\n",
              "\n",
              "        \n",
              "    \n",
              "    \n",
              "            var marker_032086f0aa430a093fc633e0ca920ed5 = L.marker(\n",
              "                [37.5188069808785, 126.903856966109],\n",
              "                {}\n",
              "            ).addTo(map_8c386eee3f3a5bac3fa82ca11fd8e6e5);\n",
              "        \n",
              "    \n",
              "        var popup_dc8a00c8d93b93a897ddfa260edc5b37 = L.popup({&quot;maxWidth&quot;: &quot;100%&quot;});\n",
              "\n",
              "        \n",
              "            \n",
              "                var html_60355d7d3df24718fb0502651ba3d5fe = $(`&lt;div id=&quot;html_60355d7d3df24718fb0502651ba3d5fe&quot; style=&quot;width: 100.0%; height: 100.0%;&quot;&gt;씨엠충무병원-서울특별시 영등포구 영등포로36길 13&lt;/div&gt;`)[0];\n",
              "                popup_dc8a00c8d93b93a897ddfa260edc5b37.setContent(html_60355d7d3df24718fb0502651ba3d5fe);\n",
              "            \n",
              "        \n",
              "\n",
              "        marker_032086f0aa430a093fc633e0ca920ed5.bindPopup(popup_dc8a00c8d93b93a897ddfa260edc5b37)\n",
              "        ;\n",
              "\n",
              "        \n",
              "    \n",
              "    \n",
              "            var marker_bab2842ec85bd822ee2cd8f3a5bfcbb4 = L.marker(\n",
              "                [37.5835570580505, 127.086044429855],\n",
              "                {}\n",
              "            ).addTo(map_8c386eee3f3a5bac3fa82ca11fd8e6e5);\n",
              "        \n",
              "    \n",
              "        var popup_c967b4c2956e322ce6dd385d0747fb39 = L.popup({&quot;maxWidth&quot;: &quot;100%&quot;});\n",
              "\n",
              "        \n",
              "            \n",
              "                var html_71d69015bf9436abe33be5547fdc0d53 = $(`&lt;div id=&quot;html_71d69015bf9436abe33be5547fdc0d53&quot; style=&quot;width: 100.0%; height: 100.0%;&quot;&gt;원진재단부설녹색병원-서울특별시 중랑구 사가정로49길 53&lt;/div&gt;`)[0];\n",
              "                popup_c967b4c2956e322ce6dd385d0747fb39.setContent(html_71d69015bf9436abe33be5547fdc0d53);\n",
              "            \n",
              "        \n",
              "\n",
              "        marker_bab2842ec85bd822ee2cd8f3a5bfcbb4.bindPopup(popup_c967b4c2956e322ce6dd385d0747fb39)\n",
              "        ;\n",
              "\n",
              "        \n",
              "    \n",
              "    \n",
              "            var marker_f9a25776a7508a3daff9245e00bd85ee = L.marker(\n",
              "                [37.4884364039536, 127.102967790545],\n",
              "                {}\n",
              "            ).addTo(map_8c386eee3f3a5bac3fa82ca11fd8e6e5);\n",
              "        \n",
              "    \n",
              "        var popup_c78b4b3c1659a58788deb8f6e8c2dc3f = L.popup({&quot;maxWidth&quot;: &quot;100%&quot;});\n",
              "\n",
              "        \n",
              "            \n",
              "                var html_82a36d1effbcd50175cd3ec0701b0d27 = $(`&lt;div id=&quot;html_82a36d1effbcd50175cd3ec0701b0d27&quot; style=&quot;width: 100.0%; height: 100.0%;&quot;&gt;강남센트럴병원-서울특별시 강남구 광평로51길 6-9&lt;/div&gt;`)[0];\n",
              "                popup_c78b4b3c1659a58788deb8f6e8c2dc3f.setContent(html_82a36d1effbcd50175cd3ec0701b0d27);\n",
              "            \n",
              "        \n",
              "\n",
              "        marker_f9a25776a7508a3daff9245e00bd85ee.bindPopup(popup_c78b4b3c1659a58788deb8f6e8c2dc3f)\n",
              "        ;\n",
              "\n",
              "        \n",
              "    \n",
              "    \n",
              "            var marker_d74fd997e2af674126b7a785fb683c16 = L.marker(\n",
              "                [37.5190874717723, 127.049590630364],\n",
              "                {}\n",
              "            ).addTo(map_8c386eee3f3a5bac3fa82ca11fd8e6e5);\n",
              "        \n",
              "    \n",
              "        var popup_f07e35b7cd5dc1954992f700cfb98750 = L.popup({&quot;maxWidth&quot;: &quot;100%&quot;});\n",
              "\n",
              "        \n",
              "            \n",
              "                var html_6c1ee6f2cd3ca3db3042f7c94a9d774d = $(`&lt;div id=&quot;html_6c1ee6f2cd3ca3db3042f7c94a9d774d&quot; style=&quot;width: 100.0%; height: 100.0%;&quot;&gt;우리들병원-서울특별시 강남구 학동로 445&lt;/div&gt;`)[0];\n",
              "                popup_f07e35b7cd5dc1954992f700cfb98750.setContent(html_6c1ee6f2cd3ca3db3042f7c94a9d774d);\n",
              "            \n",
              "        \n",
              "\n",
              "        marker_d74fd997e2af674126b7a785fb683c16.bindPopup(popup_f07e35b7cd5dc1954992f700cfb98750)\n",
              "        ;\n",
              "\n",
              "        \n",
              "    \n",
              "    \n",
              "            var marker_01070fc9e776b30d5b28a96724a6484d = L.marker(\n",
              "                [37.5412246823097, 127.07204319615],\n",
              "                {}\n",
              "            ).addTo(map_8c386eee3f3a5bac3fa82ca11fd8e6e5);\n",
              "        \n",
              "    \n",
              "        var popup_a256e32c48d76c65ecef1cd7ba537d00 = L.popup({&quot;maxWidth&quot;: &quot;100%&quot;});\n",
              "\n",
              "        \n",
              "            \n",
              "                var html_0619ddbfede4beaf4ef1eb1e1dda470e = $(`&lt;div id=&quot;html_0619ddbfede4beaf4ef1eb1e1dda470e&quot; style=&quot;width: 100.0%; height: 100.0%;&quot;&gt;건국대학교병원-서울특별시 광진구 능동로 120-1&lt;/div&gt;`)[0];\n",
              "                popup_a256e32c48d76c65ecef1cd7ba537d00.setContent(html_0619ddbfede4beaf4ef1eb1e1dda470e);\n",
              "            \n",
              "        \n",
              "\n",
              "        marker_01070fc9e776b30d5b28a96724a6484d.bindPopup(popup_a256e32c48d76c65ecef1cd7ba537d00)\n",
              "        ;\n",
              "\n",
              "        \n",
              "    \n",
              "    \n",
              "            var marker_0dad16195cbb64d8cae3eedfec5f3789 = L.marker(\n",
              "                [37.5667546922405, 126.96718956735],\n",
              "                {}\n",
              "            ).addTo(map_8c386eee3f3a5bac3fa82ca11fd8e6e5);\n",
              "        \n",
              "    \n",
              "        var popup_a3423c0e20c7a0a9fcd537cf2ed71f06 = L.popup({&quot;maxWidth&quot;: &quot;100%&quot;});\n",
              "\n",
              "        \n",
              "            \n",
              "                var html_61473e51868e7f341d11bd081724f52d = $(`&lt;div id=&quot;html_61473e51868e7f341d11bd081724f52d&quot; style=&quot;width: 100.0%; height: 100.0%;&quot;&gt;서울적십자병원-서울특별시 종로구 새문안로 9&lt;/div&gt;`)[0];\n",
              "                popup_a3423c0e20c7a0a9fcd537cf2ed71f06.setContent(html_61473e51868e7f341d11bd081724f52d);\n",
              "            \n",
              "        \n",
              "\n",
              "        marker_0dad16195cbb64d8cae3eedfec5f3789.bindPopup(popup_a3423c0e20c7a0a9fcd537cf2ed71f06)\n",
              "        ;\n",
              "\n",
              "        \n",
              "    \n",
              "    \n",
              "            var marker_1dc81e2d3a079da968e95729a61c4caf = L.marker(\n",
              "                [37.5284732652867, 126.863619637682],\n",
              "                {}\n",
              "            ).addTo(map_8c386eee3f3a5bac3fa82ca11fd8e6e5);\n",
              "        \n",
              "    \n",
              "        var popup_afed008e64ebb00ea33d210bb70b4891 = L.popup({&quot;maxWidth&quot;: &quot;100%&quot;});\n",
              "\n",
              "        \n",
              "            \n",
              "                var html_f5927297875181ba15939968b71ee9d1 = $(`&lt;div id=&quot;html_f5927297875181ba15939968b71ee9d1&quot; style=&quot;width: 100.0%; height: 100.0%;&quot;&gt;홍익병원-서울특별시 양천구 목동로 225&lt;/div&gt;`)[0];\n",
              "                popup_afed008e64ebb00ea33d210bb70b4891.setContent(html_f5927297875181ba15939968b71ee9d1);\n",
              "            \n",
              "        \n",
              "\n",
              "        marker_1dc81e2d3a079da968e95729a61c4caf.bindPopup(popup_afed008e64ebb00ea33d210bb70b4891)\n",
              "        ;\n",
              "\n",
              "        \n",
              "    \n",
              "    \n",
              "            var marker_b69d22e8ba49e1073d6dd71f4c9da436 = L.marker(\n",
              "                [37.5023822369311, 127.005840711554],\n",
              "                {}\n",
              "            ).addTo(map_8c386eee3f3a5bac3fa82ca11fd8e6e5);\n",
              "        \n",
              "    \n",
              "        var popup_6296a6820ad17b41da8ba5897ce998a2 = L.popup({&quot;maxWidth&quot;: &quot;100%&quot;});\n",
              "\n",
              "        \n",
              "            \n",
              "                var html_bd3740496866a4fc697ad6a1b86271fa = $(`&lt;div id=&quot;html_bd3740496866a4fc697ad6a1b86271fa&quot; style=&quot;width: 100.0%; height: 100.0%;&quot;&gt;서울성모병원응급의료센터-서울특별시 서초구 반포대로 222&lt;/div&gt;`)[0];\n",
              "                popup_6296a6820ad17b41da8ba5897ce998a2.setContent(html_bd3740496866a4fc697ad6a1b86271fa);\n",
              "            \n",
              "        \n",
              "\n",
              "        marker_b69d22e8ba49e1073d6dd71f4c9da436.bindPopup(popup_6296a6820ad17b41da8ba5897ce998a2)\n",
              "        ;\n",
              "\n",
              "        \n",
              "    \n",
              "    \n",
              "            var marker_d45085ad2e7d81e8fb378947d6d0a312 = L.marker(\n",
              "                [37.5636624910965, 126.986757791586],\n",
              "                {}\n",
              "            ).addTo(map_8c386eee3f3a5bac3fa82ca11fd8e6e5);\n",
              "        \n",
              "    \n",
              "        var popup_7be1e6bb69cec070943411894ff302fb = L.popup({&quot;maxWidth&quot;: &quot;100%&quot;});\n",
              "\n",
              "        \n",
              "            \n",
              "                var html_013a06cca3985aa570f7df07e7fea33e = $(`&lt;div id=&quot;html_013a06cca3985aa570f7df07e7fea33e&quot; style=&quot;width: 100.0%; height: 100.0%;&quot;&gt;가톨릭대학교여의도성모병원-서울특별시 중구 명동길 74&lt;/div&gt;`)[0];\n",
              "                popup_7be1e6bb69cec070943411894ff302fb.setContent(html_013a06cca3985aa570f7df07e7fea33e);\n",
              "            \n",
              "        \n",
              "\n",
              "        marker_d45085ad2e7d81e8fb378947d6d0a312.bindPopup(popup_7be1e6bb69cec070943411894ff302fb)\n",
              "        ;\n",
              "\n",
              "        \n",
              "    \n",
              "    \n",
              "            var marker_7c2ea22668e17d96effab383bdd48d27 = L.marker(\n",
              "                [37.5188069808785, 126.903856966109],\n",
              "                {}\n",
              "            ).addTo(map_8c386eee3f3a5bac3fa82ca11fd8e6e5);\n",
              "        \n",
              "    \n",
              "        var popup_84f8652a80ae5352ec866acf1f0fe09e = L.popup({&quot;maxWidth&quot;: &quot;100%&quot;});\n",
              "\n",
              "        \n",
              "            \n",
              "                var html_3f393bf950886eac16611c9bc53eda4b = $(`&lt;div id=&quot;html_3f393bf950886eac16611c9bc53eda4b&quot; style=&quot;width: 100.0%; height: 100.0%;&quot;&gt;씨엠병원-서울특별시 영등포구 영등포로36길 13&lt;/div&gt;`)[0];\n",
              "                popup_84f8652a80ae5352ec866acf1f0fe09e.setContent(html_3f393bf950886eac16611c9bc53eda4b);\n",
              "            \n",
              "        \n",
              "\n",
              "        marker_7c2ea22668e17d96effab383bdd48d27.bindPopup(popup_84f8652a80ae5352ec866acf1f0fe09e)\n",
              "        ;\n",
              "\n",
              "        \n",
              "    \n",
              "    \n",
              "            var marker_d21213d2698fd9a59e093ca10b5d38fc = L.marker(\n",
              "                [37.4856042637596, 127.039566911558],\n",
              "                {}\n",
              "            ).addTo(map_8c386eee3f3a5bac3fa82ca11fd8e6e5);\n",
              "        \n",
              "    \n",
              "        var popup_0460daedc799e24db0ecbe787f3f9a49 = L.popup({&quot;maxWidth&quot;: &quot;100%&quot;});\n",
              "\n",
              "        \n",
              "            \n",
              "                var html_a1f4a647ae37a843f0f5e9d32f394911 = $(`&lt;div id=&quot;html_a1f4a647ae37a843f0f5e9d32f394911&quot; style=&quot;width: 100.0%; height: 100.0%;&quot;&gt;성베드로병원-서울특별시 강남구 남부순환로 2649&lt;/div&gt;`)[0];\n",
              "                popup_0460daedc799e24db0ecbe787f3f9a49.setContent(html_a1f4a647ae37a843f0f5e9d32f394911);\n",
              "            \n",
              "        \n",
              "\n",
              "        marker_d21213d2698fd9a59e093ca10b5d38fc.bindPopup(popup_0460daedc799e24db0ecbe787f3f9a49)\n",
              "        ;\n",
              "\n",
              "        \n",
              "    \n",
              "&lt;/script&gt;\n",
              "&lt;/html&gt;\" style=\"position:absolute;width:100%;height:100%;left:0;top:0;border:none !important;\" allowfullscreen webkitallowfullscreen mozallowfullscreen></iframe></div></div>"
            ],
            "text/plain": [
              "<folium.folium.Map at 0x169d8a1b0>"
            ]
          },
          "execution_count": 117,
          "metadata": {},
          "output_type": "execute_result"
        }
      ],
      "source": [
        "# 지도의 중심을 지정하기 위해 위도와 경도의 평균을 구합니다.\n",
        "df_seoul_hospital[\"위도\"].mean(), df_seoul_hospital[\"경도\"].mean()\n",
        "\n",
        "map = folium.Map(location=[df_seoul_hospital[\"위도\"].mean(), df_seoul_hospital[\"경도\"].mean()],zoom_start=12)\n",
        "for n in df_seoul_hospital.index:\n",
        "    name = df_seoul_hospital.loc[n, \"상호명\"]\n",
        "    address = df_seoul_hospital.loc[n, \"도로명주소\"]\n",
        "    popup = f\"{name}-{address}\"\n",
        "    location = [df_seoul_hospital.loc[n, \"위도\"], df_seoul_hospital.loc[n, \"경도\"]]\n",
        "    folium.Marker(\n",
        "        location = location,\n",
        "        popup = popup,\n",
        "    ).add_to(map)\n",
        "map"
      ]
    },
    {
      "cell_type": "code",
      "execution_count": null,
      "metadata": {},
      "outputs": [],
      "source": []
    },
    {
      "cell_type": "markdown",
      "metadata": {
        "id": "9MhcrLjoc8KX"
      },
      "source": [
        "## 좀 더 분석해 보기\n",
        "* 상권업종중분류명, 상권업종소분류명 중에 관심 있는 분류명을 색인 후에 시도별, 시군구별 분석을 해보세요.\n",
        "* 예시)\n",
        "    * 언어치료는 시군구별로 어디에 많이 위치할까?\n",
        "    * 의료시설은 서울과 강남에 집중되어 있을까?\n",
        "    * 강남에는 피부과, 성형외과가 다른 지역에 비해 많을까?"
      ]
    },
    {
      "cell_type": "code",
      "execution_count": null,
      "metadata": {
        "id": "mp5UBsY7c8KX"
      },
      "outputs": [],
      "source": []
    },
    {
      "cell_type": "code",
      "execution_count": null,
      "metadata": {
        "id": "tCp4_9Nzc8KX"
      },
      "outputs": [],
      "source": []
    }
  ],
  "metadata": {
    "colab": {
      "provenance": []
    },
    "kernelspec": {
      "display_name": "Python 3 (ipykernel)",
      "language": "python",
      "name": "python3"
    },
    "language_info": {
      "codemirror_mode": {
        "name": "ipython",
        "version": 3
      },
      "file_extension": ".py",
      "mimetype": "text/x-python",
      "name": "python",
      "nbconvert_exporter": "python",
      "pygments_lexer": "ipython3",
      "version": "3.12.4"
    },
    "toc": {
      "base_numbering": 1,
      "nav_menu": {},
      "number_sections": true,
      "sideBar": true,
      "skip_h1_title": false,
      "title_cell": "Table of Contents",
      "title_sidebar": "Contents",
      "toc_cell": false,
      "toc_position": {
        "height": "518px",
        "left": "105px",
        "top": "571px",
        "width": "171px"
      },
      "toc_section_display": true,
      "toc_window_display": true
    },
    "varInspector": {
      "cols": {
        "lenName": 16,
        "lenType": 16,
        "lenVar": 40
      },
      "kernels_config": {
        "python": {
          "delete_cmd_postfix": "",
          "delete_cmd_prefix": "del ",
          "library": "var_list.py",
          "varRefreshCmd": "print(var_dic_list())"
        },
        "r": {
          "delete_cmd_postfix": ") ",
          "delete_cmd_prefix": "rm(",
          "library": "var_list.r",
          "varRefreshCmd": "cat(var_dic_list()) "
        }
      },
      "types_to_exclude": [
        "module",
        "function",
        "builtin_function_or_method",
        "instance",
        "_Feature"
      ],
      "window_display": false
    }
  },
  "nbformat": 4,
  "nbformat_minor": 0
}
