{
  "cells": [
    {
      "cell_type": "markdown",
      "metadata": {
        "id": "t72iT4ZCc8KM"
      },
      "source": [
        "[![Open In Colab](https://colab.research.google.com/assets/colab-badge.svg)](https://colab.research.google.com/github/corazzon/boostcourse-ds-510/blob/master/open-data-analysis-input.ipynb)\n",
        "\n",
        "\n",
        "# 공공데이터 상권정보 분석해 보기\n",
        "* https://www.data.go.kr/dataset/15012005/fileData.do\n",
        "* 국가중점데이터인 상권정보를 살펴봅니다.\n",
        "* 처음으로 파일데이터에서 `상가(상권)정보_의료기관_201909`를 다운로드 받아봅니다."
      ]
    },
    {
      "cell_type": "markdown",
      "metadata": {
        "id": "PgFqQ8cVc8KN"
      },
      "source": [
        "## 필요한 라이브러리 불러오기"
      ]
    },
    {
      "cell_type": "code",
      "execution_count": null,
      "metadata": {},
      "outputs": [],
      "source": [
        "# conda install seaborn"
      ]
    },
    {
      "cell_type": "code",
      "execution_count": 6,
      "metadata": {
        "id": "F1JS0yLWc8KN"
      },
      "outputs": [],
      "source": [
        "import pandas as pd\n",
        "import numpy as np\n",
        "import seaborn as sns #시각화를 위한"
      ]
    },
    {
      "cell_type": "markdown",
      "metadata": {
        "id": "A4Ih_ZXEc8KO"
      },
      "source": [
        "## 시각화를 위한 폰트 설정"
      ]
    },
    {
      "cell_type": "code",
      "execution_count": 13,
      "metadata": {
        "id": "aqCvgtiYc8KO"
      },
      "outputs": [
        {
          "ename": "NameError",
          "evalue": "name 'opt' is not defined",
          "output_type": "error",
          "traceback": [
            "\u001b[0;31m---------------------------------------------------------------------------\u001b[0m",
            "\u001b[0;31mNameError\u001b[0m                                 Traceback (most recent call last)",
            "Cell \u001b[0;32mIn[13], line 3\u001b[0m\n\u001b[1;32m      1\u001b[0m \u001b[38;5;66;03m# 한글폰트 사용을 위해 설치\u001b[39;00m\n\u001b[1;32m      2\u001b[0m \u001b[38;5;66;03m# 아래 모듈을 설치하고 불러오면 별도의 한글폰트 설정이 필요 없습니다.\u001b[39;00m\n\u001b[0;32m----> 3\u001b[0m \u001b[43mopt\u001b[49m\u001b[38;5;241m/\u001b[39manaconda3\u001b[38;5;241m/\u001b[39menvs\u001b[38;5;241m/\u001b[39mDataSc1\u001b[38;5;241m/\u001b[39m\u001b[38;5;28mbin\u001b[39m\u001b[38;5;241m/\u001b[39mpip(install, koreanize\u001b[38;5;241m-\u001b[39mmatplotlib)\n",
            "\u001b[0;31mNameError\u001b[0m: name 'opt' is not defined"
          ]
        }
      ],
      "source": [
        "# 한글폰트 사용을 위해 설치\n",
        "# 아래 모듈을 설치하고 불러오면 별도의 한글폰트 설정이 필요 없습니다.\n",
        "# /opt/anaconda3/envs/DataSc1/bin/pip install koreanize-matplotlib\n"
      ]
    },
    {
      "cell_type": "code",
      "execution_count": 14,
      "metadata": {},
      "outputs": [],
      "source": [
        "import koreanize_matplotlib"
      ]
    },
    {
      "cell_type": "code",
      "execution_count": 15,
      "metadata": {
        "id": "mcqla7Jgc8KO"
      },
      "outputs": [],
      "source": [
        "import matplotlib.pyplot as plt\n",
        "from IPython.display import set_matplotlib_formats\n",
        "# Window 의 한글 폰트 설정\n",
        "# plt.rc('font',family='Malgun Gothic')\n",
        "# Mac 의 한글 폰트 설정\n",
        "plt.rc('font', family='AppleGothic')\n",
        "plt.rc('axes', unicode_minus=False)\n",
        "\n",
        "# 폰트가 선명하게 보이기 위해 - 그래프에 retina display 적용\n",
        "# retina 대신 svg 등의 설정을 할 수도 있으며\n",
        "# 디스플레이(모니터)가 retina 를 지원해야만 선명한 차이를 볼 수 있습니다.\n",
        "%config InlineBackend.figure_format = 'retina'\n",
        "\n",
        "# 그래프가 노트북 안에 보이게 하기 위해\n",
        "%matplotlib inline"
      ]
    },
    {
      "cell_type": "markdown",
      "metadata": {
        "id": "SCw7IuzYc8KO"
      },
      "source": [
        "## 데이터 로드하기\n",
        "* 판다스에서 데이터를 로드할 때는 read_csv를 사용합니다.\n",
        "* 데이터를 로드해서 df라는 변수에 담습니다.\n",
        "* 그리고 shape 를 통해 데이터의 갯수를 찍습니다. 결과는 (행, 열) 순으로 출력됩니다."
      ]
    },
    {
      "cell_type": "code",
      "execution_count": 18,
      "metadata": {
        "id": "VnZZELsac8KP"
      },
      "outputs": [
        {
          "name": "stderr",
          "output_type": "stream",
          "text": [
            "/var/folders/nb/w25zc6y91sx3lw3zk9nbtl9r0000gn/T/ipykernel_3190/2393418324.py:1: DtypeWarning: Columns (35) have mixed types. Specify dtype option on import or set low_memory=False.\n",
            "  df = pd.read_csv(\"data.csv\")\n"
          ]
        },
        {
          "data": {
            "text/plain": [
              "(91335, 39)"
            ]
          },
          "execution_count": 18,
          "metadata": {},
          "output_type": "execute_result"
        }
      ],
      "source": [
        "df = pd.read_csv(\"data.csv\")\n",
        "df.shape "
      ]
    },
    {
      "cell_type": "markdown",
      "metadata": {
        "id": "ZFfhcd78c8KP"
      },
      "source": [
        "## 데이터 미리보기\n",
        "* head, tail 을 통해 데이터를 미리 볼 수 있습니다."
      ]
    },
    {
      "cell_type": "code",
      "execution_count": 21,
      "metadata": {
        "id": "3plZKZe2c8KP"
      },
      "outputs": [
        {
          "data": {
            "text/html": [
              "<div>\n",
              "<style scoped>\n",
              "    .dataframe tbody tr th:only-of-type {\n",
              "        vertical-align: middle;\n",
              "    }\n",
              "\n",
              "    .dataframe tbody tr th {\n",
              "        vertical-align: top;\n",
              "    }\n",
              "\n",
              "    .dataframe thead th {\n",
              "        text-align: right;\n",
              "    }\n",
              "</style>\n",
              "<table border=\"1\" class=\"dataframe\">\n",
              "  <thead>\n",
              "    <tr style=\"text-align: right;\">\n",
              "      <th></th>\n",
              "      <th>상가업소번호</th>\n",
              "      <th>상호명</th>\n",
              "      <th>지점명</th>\n",
              "      <th>상권업종대분류코드</th>\n",
              "      <th>상권업종대분류명</th>\n",
              "      <th>상권업종중분류코드</th>\n",
              "      <th>상권업종중분류명</th>\n",
              "      <th>상권업종소분류코드</th>\n",
              "      <th>상권업종소분류명</th>\n",
              "      <th>표준산업분류코드</th>\n",
              "      <th>...</th>\n",
              "      <th>건물관리번호</th>\n",
              "      <th>건물명</th>\n",
              "      <th>도로명주소</th>\n",
              "      <th>구우편번호</th>\n",
              "      <th>신우편번호</th>\n",
              "      <th>동정보</th>\n",
              "      <th>층정보</th>\n",
              "      <th>호정보</th>\n",
              "      <th>경도</th>\n",
              "      <th>위도</th>\n",
              "    </tr>\n",
              "  </thead>\n",
              "  <tbody>\n",
              "    <tr>\n",
              "      <th>0</th>\n",
              "      <td>19956873</td>\n",
              "      <td>하나산부인과</td>\n",
              "      <td>NaN</td>\n",
              "      <td>S</td>\n",
              "      <td>의료</td>\n",
              "      <td>S01</td>\n",
              "      <td>병원</td>\n",
              "      <td>S01B10</td>\n",
              "      <td>산부인과</td>\n",
              "      <td>Q86201</td>\n",
              "      <td>...</td>\n",
              "      <td>4127310900110810000010857</td>\n",
              "      <td>산호한양아파트</td>\n",
              "      <td>경기도 안산시 단원구 달미로 10</td>\n",
              "      <td>425764.0</td>\n",
              "      <td>15236.0</td>\n",
              "      <td>NaN</td>\n",
              "      <td>NaN</td>\n",
              "      <td>NaN</td>\n",
              "      <td>126.814295</td>\n",
              "      <td>37.336344</td>\n",
              "    </tr>\n",
              "    <tr>\n",
              "      <th>1</th>\n",
              "      <td>20024149</td>\n",
              "      <td>타워광명내과의원</td>\n",
              "      <td>NaN</td>\n",
              "      <td>S</td>\n",
              "      <td>의료</td>\n",
              "      <td>S01</td>\n",
              "      <td>병원</td>\n",
              "      <td>S01B07</td>\n",
              "      <td>내과/외과</td>\n",
              "      <td>Q86201</td>\n",
              "      <td>...</td>\n",
              "      <td>1168011800104670014000001</td>\n",
              "      <td>NaN</td>\n",
              "      <td>서울특별시 강남구 언주로30길 39</td>\n",
              "      <td>135270.0</td>\n",
              "      <td>6292.0</td>\n",
              "      <td>NaN</td>\n",
              "      <td>4.0</td>\n",
              "      <td>NaN</td>\n",
              "      <td>127.053198</td>\n",
              "      <td>37.488742</td>\n",
              "    </tr>\n",
              "    <tr>\n",
              "      <th>2</th>\n",
              "      <td>20152277</td>\n",
              "      <td>조정현신경외과의원</td>\n",
              "      <td>NaN</td>\n",
              "      <td>S</td>\n",
              "      <td>의료</td>\n",
              "      <td>S01</td>\n",
              "      <td>병원</td>\n",
              "      <td>S01B15</td>\n",
              "      <td>신경외과</td>\n",
              "      <td>Q86201</td>\n",
              "      <td>...</td>\n",
              "      <td>4139013200117400001017064</td>\n",
              "      <td>한라프라자</td>\n",
              "      <td>경기도 시흥시 중심상가로 178</td>\n",
              "      <td>429450.0</td>\n",
              "      <td>15066.0</td>\n",
              "      <td>NaN</td>\n",
              "      <td>NaN</td>\n",
              "      <td>NaN</td>\n",
              "      <td>126.734841</td>\n",
              "      <td>37.344955</td>\n",
              "    </tr>\n",
              "  </tbody>\n",
              "</table>\n",
              "<p>3 rows × 39 columns</p>\n",
              "</div>"
            ],
            "text/plain": [
              "     상가업소번호        상호명  지점명 상권업종대분류코드 상권업종대분류명 상권업종중분류코드 상권업종중분류명 상권업종소분류코드  \\\n",
              "0  19956873     하나산부인과  NaN         S       의료       S01       병원    S01B10   \n",
              "1  20024149   타워광명내과의원  NaN         S       의료       S01       병원    S01B07   \n",
              "2  20152277  조정현신경외과의원  NaN         S       의료       S01       병원    S01B15   \n",
              "\n",
              "  상권업종소분류명 표준산업분류코드  ...                     건물관리번호      건물명  \\\n",
              "0     산부인과   Q86201  ...  4127310900110810000010857  산호한양아파트   \n",
              "1    내과/외과   Q86201  ...  1168011800104670014000001      NaN   \n",
              "2     신경외과   Q86201  ...  4139013200117400001017064    한라프라자   \n",
              "\n",
              "                 도로명주소     구우편번호    신우편번호  동정보  층정보  호정보          경도  \\\n",
              "0   경기도 안산시 단원구 달미로 10  425764.0  15236.0  NaN  NaN  NaN  126.814295   \n",
              "1  서울특별시 강남구 언주로30길 39  135270.0   6292.0  NaN  4.0  NaN  127.053198   \n",
              "2    경기도 시흥시 중심상가로 178  429450.0  15066.0  NaN  NaN  NaN  126.734841   \n",
              "\n",
              "          위도  \n",
              "0  37.336344  \n",
              "1  37.488742  \n",
              "2  37.344955  \n",
              "\n",
              "[3 rows x 39 columns]"
            ]
          },
          "execution_count": 21,
          "metadata": {},
          "output_type": "execute_result"
        }
      ],
      "source": [
        "# 커맨드 I  >> docstring(공식문서 볼 수 있음) 에 대해 자세히 설명해주세요 vscode에서 메소드의 공식문서를 보는 방법\n",
        "# head 로 데이터를 미리보기 합니다.\n",
        "df.head(3)"
      ]
    },
    {
      "cell_type": "code",
      "execution_count": 23,
      "metadata": {
        "id": "cy1IjCYIc8KP",
        "scrolled": false
      },
      "outputs": [
        {
          "data": {
            "text/html": [
              "<div>\n",
              "<style scoped>\n",
              "    .dataframe tbody tr th:only-of-type {\n",
              "        vertical-align: middle;\n",
              "    }\n",
              "\n",
              "    .dataframe tbody tr th {\n",
              "        vertical-align: top;\n",
              "    }\n",
              "\n",
              "    .dataframe thead th {\n",
              "        text-align: right;\n",
              "    }\n",
              "</style>\n",
              "<table border=\"1\" class=\"dataframe\">\n",
              "  <thead>\n",
              "    <tr style=\"text-align: right;\">\n",
              "      <th></th>\n",
              "      <th>상가업소번호</th>\n",
              "      <th>상호명</th>\n",
              "      <th>지점명</th>\n",
              "      <th>상권업종대분류코드</th>\n",
              "      <th>상권업종대분류명</th>\n",
              "      <th>상권업종중분류코드</th>\n",
              "      <th>상권업종중분류명</th>\n",
              "      <th>상권업종소분류코드</th>\n",
              "      <th>상권업종소분류명</th>\n",
              "      <th>표준산업분류코드</th>\n",
              "      <th>...</th>\n",
              "      <th>건물관리번호</th>\n",
              "      <th>건물명</th>\n",
              "      <th>도로명주소</th>\n",
              "      <th>구우편번호</th>\n",
              "      <th>신우편번호</th>\n",
              "      <th>동정보</th>\n",
              "      <th>층정보</th>\n",
              "      <th>호정보</th>\n",
              "      <th>경도</th>\n",
              "      <th>위도</th>\n",
              "    </tr>\n",
              "  </thead>\n",
              "  <tbody>\n",
              "    <tr>\n",
              "      <th>91332</th>\n",
              "      <td>16127538</td>\n",
              "      <td>참좋은요양병원</td>\n",
              "      <td>NaN</td>\n",
              "      <td>S</td>\n",
              "      <td>의료</td>\n",
              "      <td>S01</td>\n",
              "      <td>병원</td>\n",
              "      <td>S01B17</td>\n",
              "      <td>노인/치매병원</td>\n",
              "      <td>Q86102</td>\n",
              "      <td>...</td>\n",
              "      <td>2641010800105380001005572</td>\n",
              "      <td>한신시티빌</td>\n",
              "      <td>부산광역시 금정구 금강로 209</td>\n",
              "      <td>609841.0</td>\n",
              "      <td>46294.0</td>\n",
              "      <td>NaN</td>\n",
              "      <td>2</td>\n",
              "      <td>NaN</td>\n",
              "      <td>129.082790</td>\n",
              "      <td>35.227138</td>\n",
              "    </tr>\n",
              "    <tr>\n",
              "      <th>91333</th>\n",
              "      <td>16108681</td>\n",
              "      <td>경희중앙한의원</td>\n",
              "      <td>NaN</td>\n",
              "      <td>S</td>\n",
              "      <td>의료</td>\n",
              "      <td>S01</td>\n",
              "      <td>병원</td>\n",
              "      <td>S01B06</td>\n",
              "      <td>한의원</td>\n",
              "      <td>Q86203</td>\n",
              "      <td>...</td>\n",
              "      <td>1174010500103450009002392</td>\n",
              "      <td>NaN</td>\n",
              "      <td>서울특별시 강동구 천중로 213</td>\n",
              "      <td>134811.0</td>\n",
              "      <td>5303.0</td>\n",
              "      <td>NaN</td>\n",
              "      <td>NaN</td>\n",
              "      <td>NaN</td>\n",
              "      <td>127.143958</td>\n",
              "      <td>37.540993</td>\n",
              "    </tr>\n",
              "    <tr>\n",
              "      <th>91334</th>\n",
              "      <td>16109073</td>\n",
              "      <td>천안김안과천안역본점의원</td>\n",
              "      <td>NaN</td>\n",
              "      <td>S</td>\n",
              "      <td>의료</td>\n",
              "      <td>S01</td>\n",
              "      <td>병원</td>\n",
              "      <td>S01B13</td>\n",
              "      <td>안과의원</td>\n",
              "      <td>Q86201</td>\n",
              "      <td>...</td>\n",
              "      <td>4413110700102660017016314</td>\n",
              "      <td>김안과</td>\n",
              "      <td>충청남도 천안시 동남구 중앙로 92</td>\n",
              "      <td>330952.0</td>\n",
              "      <td>31127.0</td>\n",
              "      <td>NaN</td>\n",
              "      <td>NaN</td>\n",
              "      <td>NaN</td>\n",
              "      <td>127.152651</td>\n",
              "      <td>36.806640</td>\n",
              "    </tr>\n",
              "  </tbody>\n",
              "</table>\n",
              "<p>3 rows × 39 columns</p>\n",
              "</div>"
            ],
            "text/plain": [
              "         상가업소번호           상호명  지점명 상권업종대분류코드 상권업종대분류명 상권업종중분류코드 상권업종중분류명  \\\n",
              "91332  16127538       참좋은요양병원  NaN         S       의료       S01       병원   \n",
              "91333  16108681       경희중앙한의원  NaN         S       의료       S01       병원   \n",
              "91334  16109073  천안김안과천안역본점의원  NaN         S       의료       S01       병원   \n",
              "\n",
              "      상권업종소분류코드 상권업종소분류명 표준산업분류코드  ...                     건물관리번호    건물명  \\\n",
              "91332    S01B17  노인/치매병원   Q86102  ...  2641010800105380001005572  한신시티빌   \n",
              "91333    S01B06      한의원   Q86203  ...  1174010500103450009002392    NaN   \n",
              "91334    S01B13     안과의원   Q86201  ...  4413110700102660017016314    김안과   \n",
              "\n",
              "                     도로명주소     구우편번호    신우편번호  동정보  층정보  호정보          경도  \\\n",
              "91332    부산광역시 금정구 금강로 209  609841.0  46294.0  NaN    2  NaN  129.082790   \n",
              "91333    서울특별시 강동구 천중로 213  134811.0   5303.0  NaN  NaN  NaN  127.143958   \n",
              "91334  충청남도 천안시 동남구 중앙로 92  330952.0  31127.0  NaN  NaN  NaN  127.152651   \n",
              "\n",
              "              위도  \n",
              "91332  35.227138  \n",
              "91333  37.540993  \n",
              "91334  36.806640  \n",
              "\n",
              "[3 rows x 39 columns]"
            ]
          },
          "execution_count": 23,
          "metadata": {},
          "output_type": "execute_result"
        }
      ],
      "source": [
        "# tail 로 마지막 부분에 있는 데이터를 불러옵니다.\n",
        "df.tail(3)"
      ]
    },
    {
      "cell_type": "code",
      "execution_count": 25,
      "metadata": {
        "id": "nZRU9B75c8KP"
      },
      "outputs": [
        {
          "data": {
            "text/html": [
              "<div>\n",
              "<style scoped>\n",
              "    .dataframe tbody tr th:only-of-type {\n",
              "        vertical-align: middle;\n",
              "    }\n",
              "\n",
              "    .dataframe tbody tr th {\n",
              "        vertical-align: top;\n",
              "    }\n",
              "\n",
              "    .dataframe thead th {\n",
              "        text-align: right;\n",
              "    }\n",
              "</style>\n",
              "<table border=\"1\" class=\"dataframe\">\n",
              "  <thead>\n",
              "    <tr style=\"text-align: right;\">\n",
              "      <th></th>\n",
              "      <th>상가업소번호</th>\n",
              "      <th>상호명</th>\n",
              "      <th>지점명</th>\n",
              "      <th>상권업종대분류코드</th>\n",
              "      <th>상권업종대분류명</th>\n",
              "      <th>상권업종중분류코드</th>\n",
              "      <th>상권업종중분류명</th>\n",
              "      <th>상권업종소분류코드</th>\n",
              "      <th>상권업종소분류명</th>\n",
              "      <th>표준산업분류코드</th>\n",
              "      <th>...</th>\n",
              "      <th>건물관리번호</th>\n",
              "      <th>건물명</th>\n",
              "      <th>도로명주소</th>\n",
              "      <th>구우편번호</th>\n",
              "      <th>신우편번호</th>\n",
              "      <th>동정보</th>\n",
              "      <th>층정보</th>\n",
              "      <th>호정보</th>\n",
              "      <th>경도</th>\n",
              "      <th>위도</th>\n",
              "    </tr>\n",
              "  </thead>\n",
              "  <tbody>\n",
              "    <tr>\n",
              "      <th>76620</th>\n",
              "      <td>12569798</td>\n",
              "      <td>뉴욕온누리약국</td>\n",
              "      <td>NaN</td>\n",
              "      <td>S</td>\n",
              "      <td>의료</td>\n",
              "      <td>S02</td>\n",
              "      <td>약국/한약방</td>\n",
              "      <td>S02A01</td>\n",
              "      <td>약국</td>\n",
              "      <td>G47811</td>\n",
              "      <td>...</td>\n",
              "      <td>1174010100103450006019745</td>\n",
              "      <td>NaN</td>\n",
              "      <td>서울특별시 강동구 양재대로 1590</td>\n",
              "      <td>134830.0</td>\n",
              "      <td>5295.0</td>\n",
              "      <td>NaN</td>\n",
              "      <td>1</td>\n",
              "      <td>NaN</td>\n",
              "      <td>127.143681</td>\n",
              "      <td>37.547443</td>\n",
              "    </tr>\n",
              "  </tbody>\n",
              "</table>\n",
              "<p>1 rows × 39 columns</p>\n",
              "</div>"
            ],
            "text/plain": [
              "         상가업소번호      상호명  지점명 상권업종대분류코드 상권업종대분류명 상권업종중분류코드 상권업종중분류명 상권업종소분류코드  \\\n",
              "76620  12569798  뉴욕온누리약국  NaN         S       의료       S02   약국/한약방    S02A01   \n",
              "\n",
              "      상권업종소분류명 표준산업분류코드  ...                     건물관리번호  건물명  \\\n",
              "76620       약국   G47811  ...  1174010100103450006019745  NaN   \n",
              "\n",
              "                     도로명주소     구우편번호   신우편번호  동정보 층정보  호정보          경도  \\\n",
              "76620  서울특별시 강동구 양재대로 1590  134830.0  5295.0  NaN   1  NaN  127.143681   \n",
              "\n",
              "              위도  \n",
              "76620  37.547443  \n",
              "\n",
              "[1 rows x 39 columns]"
            ]
          },
          "execution_count": 25,
          "metadata": {},
          "output_type": "execute_result"
        }
      ],
      "source": [
        "# sample 로 미리보기를 합니다.\n",
        "df.sample()"
      ]
    },
    {
      "cell_type": "markdown",
      "metadata": {
        "id": "CXeBBgudc8KP"
      },
      "source": [
        "## 데이터 요약하기"
      ]
    },
    {
      "cell_type": "markdown",
      "metadata": {
        "id": "riQ0CGlYc8KP"
      },
      "source": [
        "### 요약정보"
      ]
    },
    {
      "cell_type": "code",
      "execution_count": 27,
      "metadata": {
        "id": "C1SbdIOgc8KP"
      },
      "outputs": [
        {
          "name": "stdout",
          "output_type": "stream",
          "text": [
            "<class 'pandas.core.frame.DataFrame'>\n",
            "RangeIndex: 91335 entries, 0 to 91334\n",
            "Data columns (total 39 columns):\n",
            " #   Column     Non-Null Count  Dtype  \n",
            "---  ------     --------------  -----  \n",
            " 0   상가업소번호     91335 non-null  int64  \n",
            " 1   상호명        91335 non-null  object \n",
            " 2   지점명        1346 non-null   object \n",
            " 3   상권업종대분류코드  91335 non-null  object \n",
            " 4   상권업종대분류명   91335 non-null  object \n",
            " 5   상권업종중분류코드  91335 non-null  object \n",
            " 6   상권업종중분류명   91335 non-null  object \n",
            " 7   상권업종소분류코드  91335 non-null  object \n",
            " 8   상권업종소분류명   91335 non-null  object \n",
            " 9   표준산업분류코드   86413 non-null  object \n",
            " 10  표준산업분류명    86413 non-null  object \n",
            " 11  시도코드       90956 non-null  float64\n",
            " 12  시도명        90956 non-null  object \n",
            " 13  시군구코드      90956 non-null  float64\n",
            " 14  시군구명       90956 non-null  object \n",
            " 15  행정동코드      91335 non-null  int64  \n",
            " 16  행정동명       90956 non-null  object \n",
            " 17  법정동코드      91280 non-null  float64\n",
            " 18  법정동명       91280 non-null  object \n",
            " 19  지번코드       91335 non-null  int64  \n",
            " 20  대지구분코드     91335 non-null  int64  \n",
            " 21  대지구분명      91335 non-null  object \n",
            " 22  지번본번지      91335 non-null  int64  \n",
            " 23  지번부번지      72079 non-null  float64\n",
            " 24  지번주소       91335 non-null  object \n",
            " 25  도로명코드      91335 non-null  int64  \n",
            " 26  도로명        91335 non-null  object \n",
            " 27  건물본번지      91335 non-null  int64  \n",
            " 28  건물부번지      10604 non-null  float64\n",
            " 29  건물관리번호     91335 non-null  object \n",
            " 30  건물명        46453 non-null  object \n",
            " 31  도로명주소      91335 non-null  object \n",
            " 32  구우편번호      91323 non-null  float64\n",
            " 33  신우편번호      91333 non-null  float64\n",
            " 34  동정보        7406 non-null   object \n",
            " 35  층정보        44044 non-null  object \n",
            " 36  호정보        15551 non-null  object \n",
            " 37  경도         91335 non-null  float64\n",
            " 38  위도         91335 non-null  float64\n",
            "dtypes: float64(9), int64(7), object(23)\n",
            "memory usage: 27.2+ MB\n"
          ]
        }
      ],
      "source": [
        "# info로 데이터의 요약을 봅니다.\n",
        "df.info()"
      ]
    },
    {
      "cell_type": "markdown",
      "metadata": {
        "id": "QcY078tvc8KQ"
      },
      "source": [
        "### 컬럼명 보기"
      ]
    },
    {
      "cell_type": "code",
      "execution_count": 29,
      "metadata": {
        "id": "69dTfVbKc8KQ"
      },
      "outputs": [
        {
          "data": {
            "text/plain": [
              "Index(['상가업소번호', '상호명', '지점명', '상권업종대분류코드', '상권업종대분류명', '상권업종중분류코드',\n",
              "       '상권업종중분류명', '상권업종소분류코드', '상권업종소분류명', '표준산업분류코드', '표준산업분류명', '시도코드',\n",
              "       '시도명', '시군구코드', '시군구명', '행정동코드', '행정동명', '법정동코드', '법정동명', '지번코드',\n",
              "       '대지구분코드', '대지구분명', '지번본번지', '지번부번지', '지번주소', '도로명코드', '도로명', '건물본번지',\n",
              "       '건물부번지', '건물관리번호', '건물명', '도로명주소', '구우편번호', '신우편번호', '동정보', '층정보',\n",
              "       '호정보', '경도', '위도'],\n",
              "      dtype='object')"
            ]
          },
          "execution_count": 29,
          "metadata": {},
          "output_type": "execute_result"
        }
      ],
      "source": [
        "# 컬럼명만 출력해 봅니다.\n",
        "df.columns"
      ]
    },
    {
      "cell_type": "markdown",
      "metadata": {
        "id": "jqppzahnc8KQ"
      },
      "source": [
        "### 데이터 타입"
      ]
    },
    {
      "cell_type": "code",
      "execution_count": 30,
      "metadata": {
        "id": "w9-MGNDoc8KQ"
      },
      "outputs": [
        {
          "data": {
            "text/plain": [
              "상가업소번호         int64\n",
              "상호명           object\n",
              "지점명           object\n",
              "상권업종대분류코드     object\n",
              "상권업종대분류명      object\n",
              "상권업종중분류코드     object\n",
              "상권업종중분류명      object\n",
              "상권업종소분류코드     object\n",
              "상권업종소분류명      object\n",
              "표준산업분류코드      object\n",
              "표준산업분류명       object\n",
              "시도코드         float64\n",
              "시도명           object\n",
              "시군구코드        float64\n",
              "시군구명          object\n",
              "행정동코드          int64\n",
              "행정동명          object\n",
              "법정동코드        float64\n",
              "법정동명          object\n",
              "지번코드           int64\n",
              "대지구분코드         int64\n",
              "대지구분명         object\n",
              "지번본번지          int64\n",
              "지번부번지        float64\n",
              "지번주소          object\n",
              "도로명코드          int64\n",
              "도로명           object\n",
              "건물본번지          int64\n",
              "건물부번지        float64\n",
              "건물관리번호        object\n",
              "건물명           object\n",
              "도로명주소         object\n",
              "구우편번호        float64\n",
              "신우편번호        float64\n",
              "동정보           object\n",
              "층정보           object\n",
              "호정보           object\n",
              "경도           float64\n",
              "위도           float64\n",
              "dtype: object"
            ]
          },
          "execution_count": 30,
          "metadata": {},
          "output_type": "execute_result"
        }
      ],
      "source": [
        "# 데이터 타입만 출력합니다.\n",
        "df.dtypes"
      ]
    },
    {
      "cell_type": "markdown",
      "metadata": {
        "id": "L98gmTm_c8KQ"
      },
      "source": [
        "## 결측치"
      ]
    },
    {
      "cell_type": "code",
      "execution_count": 33,
      "metadata": {},
      "outputs": [
        {
          "data": {
            "text/plain": [
              "True"
            ]
          },
          "execution_count": 33,
          "metadata": {},
          "output_type": "execute_result"
        }
      ],
      "source": [
        "True == 1"
      ]
    },
    {
      "cell_type": "code",
      "execution_count": 47,
      "metadata": {
        "id": "lJx4K199c8KQ"
      },
      "outputs": [
        {
          "data": {
            "text/plain": [
              "<Axes: >"
            ]
          },
          "execution_count": 47,
          "metadata": {},
          "output_type": "execute_result"
        },
        {
          "data": {
            "image/png": "[encoded data removed]",
            "text/plain": [
              "<Figure size 600x1000 with 1 Axes>"
            ]
          },
          "metadata": {
            "image/png": {
              "height": 812,
              "width": 619
            }
          },
          "output_type": "display_data"
        }
      ],
      "source": [
        "# 위에서 구한 결측치를 .plot.bar 를 통해 막대그래프로 표현합니다.\n",
        "null_count = df.isnull().sum()\n",
        "null_count.plot.barh(figsize = (6,10))"
      ]
    },
    {
      "cell_type": "code",
      "execution_count": 81,
      "metadata": {
        "id": "Bdg_5cuxc8KQ"
      },
      "outputs": [
        {
          "data": {
            "text/html": [
              "<div>\n",
              "<style scoped>\n",
              "    .dataframe tbody tr th:only-of-type {\n",
              "        vertical-align: middle;\n",
              "    }\n",
              "\n",
              "    .dataframe tbody tr th {\n",
              "        vertical-align: top;\n",
              "    }\n",
              "\n",
              "    .dataframe thead th {\n",
              "        text-align: right;\n",
              "    }\n",
              "</style>\n",
              "<table border=\"1\" class=\"dataframe\">\n",
              "  <thead>\n",
              "    <tr style=\"text-align: right;\">\n",
              "      <th></th>\n",
              "      <th>index</th>\n",
              "      <th>0</th>\n",
              "    </tr>\n",
              "  </thead>\n",
              "  <tbody>\n",
              "    <tr>\n",
              "      <th>0</th>\n",
              "      <td>상가업소번호</td>\n",
              "      <td>0</td>\n",
              "    </tr>\n",
              "    <tr>\n",
              "      <th>1</th>\n",
              "      <td>상호명</td>\n",
              "      <td>0</td>\n",
              "    </tr>\n",
              "    <tr>\n",
              "      <th>2</th>\n",
              "      <td>지점명</td>\n",
              "      <td>89989</td>\n",
              "    </tr>\n",
              "    <tr>\n",
              "      <th>3</th>\n",
              "      <td>상권업종대분류코드</td>\n",
              "      <td>0</td>\n",
              "    </tr>\n",
              "    <tr>\n",
              "      <th>4</th>\n",
              "      <td>상권업종대분류명</td>\n",
              "      <td>0</td>\n",
              "    </tr>\n",
              "  </tbody>\n",
              "</table>\n",
              "</div>"
            ],
            "text/plain": [
              "       index      0\n",
              "0     상가업소번호      0\n",
              "1        상호명      0\n",
              "2        지점명  89989\n",
              "3  상권업종대분류코드      0\n",
              "4   상권업종대분류명      0"
            ]
          },
          "execution_count": 81,
          "metadata": {},
          "output_type": "execute_result"
        }
      ],
      "source": [
        "# 위에서 계산한 결측치 수를 reset_index 를 통해 데이터프레임으로 만들어 줍니다.\n",
        "# df_null_count 변수에 결과를 담아서 head 로 미리보기를 합니다.\n",
        "df_null_count = null_count.reset_index()\n",
        "\n",
        "df_null_count.head()"
      ]
    },
    {
      "cell_type": "markdown",
      "metadata": {
        "id": "XQjpBdAac8KQ"
      },
      "source": [
        "## 컬럼명 변경하기"
      ]
    },
    {
      "cell_type": "code",
      "execution_count": 84,
      "metadata": {
        "id": "O079b6hlc8KQ"
      },
      "outputs": [
        {
          "data": {
            "text/html": [
              "<div>\n",
              "<style scoped>\n",
              "    .dataframe tbody tr th:only-of-type {\n",
              "        vertical-align: middle;\n",
              "    }\n",
              "\n",
              "    .dataframe tbody tr th {\n",
              "        vertical-align: top;\n",
              "    }\n",
              "\n",
              "    .dataframe thead th {\n",
              "        text-align: right;\n",
              "    }\n",
              "</style>\n",
              "<table border=\"1\" class=\"dataframe\">\n",
              "  <thead>\n",
              "    <tr style=\"text-align: right;\">\n",
              "      <th></th>\n",
              "      <th>컬럼명</th>\n",
              "      <th>결측치수</th>\n",
              "    </tr>\n",
              "  </thead>\n",
              "  <tbody>\n",
              "    <tr>\n",
              "      <th>0</th>\n",
              "      <td>상가업소번호</td>\n",
              "      <td>0</td>\n",
              "    </tr>\n",
              "    <tr>\n",
              "      <th>1</th>\n",
              "      <td>상호명</td>\n",
              "      <td>0</td>\n",
              "    </tr>\n",
              "    <tr>\n",
              "      <th>2</th>\n",
              "      <td>지점명</td>\n",
              "      <td>89989</td>\n",
              "    </tr>\n",
              "    <tr>\n",
              "      <th>3</th>\n",
              "      <td>상권업종대분류코드</td>\n",
              "      <td>0</td>\n",
              "    </tr>\n",
              "    <tr>\n",
              "      <th>4</th>\n",
              "      <td>상권업종대분류명</td>\n",
              "      <td>0</td>\n",
              "    </tr>\n",
              "  </tbody>\n",
              "</table>\n",
              "</div>"
            ],
            "text/plain": [
              "         컬럼명   결측치수\n",
              "0     상가업소번호      0\n",
              "1        상호명      0\n",
              "2        지점명  89989\n",
              "3  상권업종대분류코드      0\n",
              "4   상권업종대분류명      0"
            ]
          },
          "execution_count": 84,
          "metadata": {},
          "output_type": "execute_result"
        }
      ],
      "source": [
        "# df_null_count 변수에 담겨있는 컬럼의 이름을 \"컬럼명\", \"결측치수\"로 변경해 줍니다.\n",
        "df_null_count.columns = [\"컬럼명\",\"결측치수\"]\n",
        "df_null_count.head()"
      ]
    },
    {
      "cell_type": "markdown",
      "metadata": {
        "id": "29AGRN4Ac8KQ"
      },
      "source": [
        "## 정렬하기"
      ]
    },
    {
      "cell_type": "code",
      "execution_count": 85,
      "metadata": {
        "id": "JPUvLzuSc8KQ"
      },
      "outputs": [
        {
          "data": {
            "text/html": [
              "<div>\n",
              "<style scoped>\n",
              "    .dataframe tbody tr th:only-of-type {\n",
              "        vertical-align: middle;\n",
              "    }\n",
              "\n",
              "    .dataframe tbody tr th {\n",
              "        vertical-align: top;\n",
              "    }\n",
              "\n",
              "    .dataframe thead th {\n",
              "        text-align: right;\n",
              "    }\n",
              "</style>\n",
              "<table border=\"1\" class=\"dataframe\">\n",
              "  <thead>\n",
              "    <tr style=\"text-align: right;\">\n",
              "      <th></th>\n",
              "      <th>컬럼명</th>\n",
              "      <th>결측치수</th>\n",
              "    </tr>\n",
              "  </thead>\n",
              "  <tbody>\n",
              "    <tr>\n",
              "      <th>2</th>\n",
              "      <td>지점명</td>\n",
              "      <td>89989</td>\n",
              "    </tr>\n",
              "    <tr>\n",
              "      <th>34</th>\n",
              "      <td>동정보</td>\n",
              "      <td>83929</td>\n",
              "    </tr>\n",
              "    <tr>\n",
              "      <th>28</th>\n",
              "      <td>건물부번지</td>\n",
              "      <td>80731</td>\n",
              "    </tr>\n",
              "    <tr>\n",
              "      <th>36</th>\n",
              "      <td>호정보</td>\n",
              "      <td>75784</td>\n",
              "    </tr>\n",
              "    <tr>\n",
              "      <th>35</th>\n",
              "      <td>층정보</td>\n",
              "      <td>47291</td>\n",
              "    </tr>\n",
              "    <tr>\n",
              "      <th>30</th>\n",
              "      <td>건물명</td>\n",
              "      <td>44882</td>\n",
              "    </tr>\n",
              "    <tr>\n",
              "      <th>23</th>\n",
              "      <td>지번부번지</td>\n",
              "      <td>19256</td>\n",
              "    </tr>\n",
              "    <tr>\n",
              "      <th>9</th>\n",
              "      <td>표준산업분류코드</td>\n",
              "      <td>4922</td>\n",
              "    </tr>\n",
              "    <tr>\n",
              "      <th>10</th>\n",
              "      <td>표준산업분류명</td>\n",
              "      <td>4922</td>\n",
              "    </tr>\n",
              "    <tr>\n",
              "      <th>11</th>\n",
              "      <td>시도코드</td>\n",
              "      <td>379</td>\n",
              "    </tr>\n",
              "  </tbody>\n",
              "</table>\n",
              "</div>"
            ],
            "text/plain": [
              "         컬럼명   결측치수\n",
              "2        지점명  89989\n",
              "34       동정보  83929\n",
              "28     건물부번지  80731\n",
              "36       호정보  75784\n",
              "35       층정보  47291\n",
              "30       건물명  44882\n",
              "23     지번부번지  19256\n",
              "9   표준산업분류코드   4922\n",
              "10   표준산업분류명   4922\n",
              "11      시도코드    379"
            ]
          },
          "execution_count": 85,
          "metadata": {},
          "output_type": "execute_result"
        }
      ],
      "source": [
        "# df_null_count 데이터프레임에 있는 결측치수 컬럼을 sort_values 를 통해 정렬해서\n",
        "# 결측치가 많은 순으로 상위 10개만 출력합니다.\n",
        "df_null_count_top = df_null_count.sort_values(by=\"결측치수\",ascending=False).head(10)\n",
        "df_null_count_top"
      ]
    },
    {
      "cell_type": "markdown",
      "metadata": {
        "id": "8EntfZVBc8KQ"
      },
      "source": [
        "## 특정 컬럼만 불러오기"
      ]
    },
    {
      "cell_type": "code",
      "execution_count": 86,
      "metadata": {
        "id": "ixbP9v1oc8KQ"
      },
      "outputs": [
        {
          "data": {
            "text/plain": [
              "<bound method NDFrame.head of 0         NaN\n",
              "1         NaN\n",
              "2         NaN\n",
              "3         NaN\n",
              "4         수지점\n",
              "         ... \n",
              "91330     베스트\n",
              "91331    봄산후조\n",
              "91332     NaN\n",
              "91333     NaN\n",
              "91334     NaN\n",
              "Name: 지점명, Length: 91335, dtype: object>"
            ]
          },
          "execution_count": 86,
          "metadata": {},
          "output_type": "execute_result"
        }
      ],
      "source": [
        "# NaN == Not a Number의 약자로 결측치를 의미함\n",
        "# 지점명 컬럼을 불러옵니다.\n",
        "df[\"지점명\"].head"
      ]
    },
    {
      "cell_type": "code",
      "execution_count": 89,
      "metadata": {
        "id": "naD_7pUyc8KQ"
      },
      "outputs": [
        {
          "data": {
            "text/plain": [
              "['지점명',\n",
              " '동정보',\n",
              " '건물부번지',\n",
              " '호정보',\n",
              " '층정보',\n",
              " '건물명',\n",
              " '지번부번지',\n",
              " '표준산업분류코드',\n",
              " '표준산업분류명',\n",
              " '시도코드']"
            ]
          },
          "execution_count": 89,
          "metadata": {},
          "output_type": "execute_result"
        }
      ],
      "source": [
        "# \"컬럼명\" 이라는 컬럼의 값만 가져와서 drop_columns 라는 변수에 담습니다.\n",
        "drop_colums = df_null_count_top[\"컬럼명\"].tolist()\n",
        "drop_colums"
      ]
    },
    {
      "cell_type": "code",
      "execution_count": 91,
      "metadata": {
        "id": "3Vx-0Dxrc8KQ"
      },
      "outputs": [
        {
          "data": {
            "text/html": [
              "<div>\n",
              "<style scoped>\n",
              "    .dataframe tbody tr th:only-of-type {\n",
              "        vertical-align: middle;\n",
              "    }\n",
              "\n",
              "    .dataframe tbody tr th {\n",
              "        vertical-align: top;\n",
              "    }\n",
              "\n",
              "    .dataframe thead th {\n",
              "        text-align: right;\n",
              "    }\n",
              "</style>\n",
              "<table border=\"1\" class=\"dataframe\">\n",
              "  <thead>\n",
              "    <tr style=\"text-align: right;\">\n",
              "      <th></th>\n",
              "      <th>지점명</th>\n",
              "      <th>동정보</th>\n",
              "      <th>건물부번지</th>\n",
              "      <th>호정보</th>\n",
              "      <th>층정보</th>\n",
              "      <th>건물명</th>\n",
              "      <th>지번부번지</th>\n",
              "      <th>표준산업분류코드</th>\n",
              "      <th>표준산업분류명</th>\n",
              "      <th>시도코드</th>\n",
              "    </tr>\n",
              "  </thead>\n",
              "  <tbody>\n",
              "    <tr>\n",
              "      <th>0</th>\n",
              "      <td>NaN</td>\n",
              "      <td>NaN</td>\n",
              "      <td>NaN</td>\n",
              "      <td>NaN</td>\n",
              "      <td>NaN</td>\n",
              "      <td>산호한양아파트</td>\n",
              "      <td>NaN</td>\n",
              "      <td>Q86201</td>\n",
              "      <td>일반 의원</td>\n",
              "      <td>41.0</td>\n",
              "    </tr>\n",
              "    <tr>\n",
              "      <th>1</th>\n",
              "      <td>NaN</td>\n",
              "      <td>NaN</td>\n",
              "      <td>NaN</td>\n",
              "      <td>NaN</td>\n",
              "      <td>4.0</td>\n",
              "      <td>NaN</td>\n",
              "      <td>14.0</td>\n",
              "      <td>Q86201</td>\n",
              "      <td>일반 의원</td>\n",
              "      <td>11.0</td>\n",
              "    </tr>\n",
              "    <tr>\n",
              "      <th>2</th>\n",
              "      <td>NaN</td>\n",
              "      <td>NaN</td>\n",
              "      <td>NaN</td>\n",
              "      <td>NaN</td>\n",
              "      <td>NaN</td>\n",
              "      <td>한라프라자</td>\n",
              "      <td>1.0</td>\n",
              "      <td>Q86201</td>\n",
              "      <td>일반 의원</td>\n",
              "      <td>41.0</td>\n",
              "    </tr>\n",
              "    <tr>\n",
              "      <th>3</th>\n",
              "      <td>NaN</td>\n",
              "      <td>NaN</td>\n",
              "      <td>NaN</td>\n",
              "      <td>NaN</td>\n",
              "      <td>5.0</td>\n",
              "      <td>NaN</td>\n",
              "      <td>1.0</td>\n",
              "      <td>NaN</td>\n",
              "      <td>NaN</td>\n",
              "      <td>26.0</td>\n",
              "    </tr>\n",
              "    <tr>\n",
              "      <th>4</th>\n",
              "      <td>수지점</td>\n",
              "      <td>NaN</td>\n",
              "      <td>NaN</td>\n",
              "      <td>NaN</td>\n",
              "      <td>1.0</td>\n",
              "      <td>NaN</td>\n",
              "      <td>2.0</td>\n",
              "      <td>G47811</td>\n",
              "      <td>의약품 및 의료용품 소매업</td>\n",
              "      <td>41.0</td>\n",
              "    </tr>\n",
              "  </tbody>\n",
              "</table>\n",
              "</div>"
            ],
            "text/plain": [
              "   지점명  동정보  건물부번지  호정보  층정보      건물명  지번부번지 표준산업분류코드         표준산업분류명  시도코드\n",
              "0  NaN  NaN    NaN  NaN  NaN  산호한양아파트    NaN   Q86201           일반 의원  41.0\n",
              "1  NaN  NaN    NaN  NaN  4.0      NaN   14.0   Q86201           일반 의원  11.0\n",
              "2  NaN  NaN    NaN  NaN  NaN    한라프라자    1.0   Q86201           일반 의원  41.0\n",
              "3  NaN  NaN    NaN  NaN  5.0      NaN    1.0      NaN             NaN  26.0\n",
              "4  수지점  NaN    NaN  NaN  1.0      NaN    2.0   G47811  의약품 및 의료용품 소매업  41.0"
            ]
          },
          "execution_count": 91,
          "metadata": {},
          "output_type": "execute_result"
        }
      ],
      "source": [
        "# drop_columns 변수로 해당 컬럼 정보만 데이터프레임에서 가져옵니다.\n",
        "df[drop_colums].head()"
      ]
    },
    {
      "cell_type": "markdown",
      "metadata": {
        "id": "vcW4TCI7c8KQ"
      },
      "source": [
        "## 제거하기"
      ]
    },
    {
      "cell_type": "code",
      "execution_count": 93,
      "metadata": {
        "id": "I-_sFTHic8KQ"
      },
      "outputs": [
        {
          "name": "stdout",
          "output_type": "stream",
          "text": [
            "(91335, 39)\n",
            "(91335, 29)\n"
          ]
        }
      ],
      "source": [
        "print(df.shape)\n",
        "df = df.drop(drop_colums,axis=1)\n",
        "print(df.shape)"
      ]
    },
    {
      "cell_type": "code",
      "execution_count": 94,
      "metadata": {
        "id": "HeTKxjTec8KQ"
      },
      "outputs": [
        {
          "name": "stdout",
          "output_type": "stream",
          "text": [
            "<class 'pandas.core.frame.DataFrame'>\n",
            "RangeIndex: 91335 entries, 0 to 91334\n",
            "Data columns (total 29 columns):\n",
            " #   Column     Non-Null Count  Dtype  \n",
            "---  ------     --------------  -----  \n",
            " 0   상가업소번호     91335 non-null  int64  \n",
            " 1   상호명        91335 non-null  object \n",
            " 2   상권업종대분류코드  91335 non-null  object \n",
            " 3   상권업종대분류명   91335 non-null  object \n",
            " 4   상권업종중분류코드  91335 non-null  object \n",
            " 5   상권업종중분류명   91335 non-null  object \n",
            " 6   상권업종소분류코드  91335 non-null  object \n",
            " 7   상권업종소분류명   91335 non-null  object \n",
            " 8   시도명        90956 non-null  object \n",
            " 9   시군구코드      90956 non-null  float64\n",
            " 10  시군구명       90956 non-null  object \n",
            " 11  행정동코드      91335 non-null  int64  \n",
            " 12  행정동명       90956 non-null  object \n",
            " 13  법정동코드      91280 non-null  float64\n",
            " 14  법정동명       91280 non-null  object \n",
            " 15  지번코드       91335 non-null  int64  \n",
            " 16  대지구분코드     91335 non-null  int64  \n",
            " 17  대지구분명      91335 non-null  object \n",
            " 18  지번본번지      91335 non-null  int64  \n",
            " 19  지번주소       91335 non-null  object \n",
            " 20  도로명코드      91335 non-null  int64  \n",
            " 21  도로명        91335 non-null  object \n",
            " 22  건물본번지      91335 non-null  int64  \n",
            " 23  건물관리번호     91335 non-null  object \n",
            " 24  도로명주소      91335 non-null  object \n",
            " 25  구우편번호      91323 non-null  float64\n",
            " 26  신우편번호      91333 non-null  float64\n",
            " 27  경도         91335 non-null  float64\n",
            " 28  위도         91335 non-null  float64\n",
            "dtypes: float64(6), int64(7), object(16)\n",
            "memory usage: 20.2+ MB\n"
          ]
        }
      ],
      "source": [
        "df.info() #info에 대한 모든 정보에 대해서 알려줌"
      ]
    },
    {
      "cell_type": "markdown",
      "metadata": {
        "id": "uwjJodZnc8KQ"
      },
      "source": [
        "## 기초 통계값 보기"
      ]
    },
    {
      "cell_type": "markdown",
      "metadata": {
        "id": "Yu-Fy3KVc8KQ"
      },
      "source": [
        "### 기초 통계 수치"
      ]
    },
    {
      "cell_type": "code",
      "execution_count": null,
      "metadata": {
        "id": "HqOQZG8Wc8KQ"
      },
      "outputs": [],
      "source": [
        "# 평균값\n"
      ]
    },
    {
      "cell_type": "code",
      "execution_count": null,
      "metadata": {
        "id": "-oPq-AU4c8KQ"
      },
      "outputs": [],
      "source": [
        "# 중앙값\n"
      ]
    },
    {
      "cell_type": "code",
      "execution_count": null,
      "metadata": {
        "id": "y_zVD1VYc8KQ"
      },
      "outputs": [],
      "source": [
        "# 최댓값\n"
      ]
    },
    {
      "cell_type": "code",
      "execution_count": null,
      "metadata": {
        "id": "5rT5EGBIc8KU"
      },
      "outputs": [],
      "source": [
        "# 최솟값\n"
      ]
    },
    {
      "cell_type": "code",
      "execution_count": null,
      "metadata": {
        "id": "ynTvKlZwc8KU"
      },
      "outputs": [],
      "source": [
        "# 개수\n"
      ]
    },
    {
      "cell_type": "markdown",
      "metadata": {
        "id": "T4R4gbfMc8KU"
      },
      "source": [
        "### 기초통계값 요약하기 - describe\n",
        "\n",
        "describe 를 사용하면 데이터를 요약해 볼 수 있습니다.\n",
        "기본적으로 수치형 데이터를 요약해서 보여줍니다.\n",
        "데이터의 갯수, 평균, 표준편차, 최솟값,\n",
        "1사분위수(25%), 2사분위수(50%), 3사분위수(75%), 최댓값을 볼 수 있습니다."
      ]
    },
    {
      "cell_type": "code",
      "execution_count": null,
      "metadata": {
        "id": "8lpCQsSnc8KU"
      },
      "outputs": [],
      "source": [
        "# 위도를 describe로 요약해 봅니다.\n"
      ]
    },
    {
      "cell_type": "code",
      "execution_count": null,
      "metadata": {
        "id": "6K_u9ypzc8KU"
      },
      "outputs": [],
      "source": [
        "# 2개의 컬럼을 describe 로 요약합니다.\n"
      ]
    },
    {
      "cell_type": "code",
      "execution_count": null,
      "metadata": {
        "id": "LjeuMY5Wc8KU",
        "scrolled": true
      },
      "outputs": [],
      "source": [
        "# describe로 문자열 데이터타입의 요약을 봅니다.\n"
      ]
    },
    {
      "cell_type": "markdown",
      "metadata": {
        "id": "HhQ2kPZDc8KU"
      },
      "source": [
        "### 중복제거한 값 보기\n",
        "* unique 로 중복을 제거한 값을 보고 nunique 로 갯수를 세어봅니다."
      ]
    },
    {
      "cell_type": "code",
      "execution_count": null,
      "metadata": {
        "id": "WKDurHRXc8KU"
      },
      "outputs": [],
      "source": [
        "# \"상권업종대분류명\"\n"
      ]
    },
    {
      "cell_type": "code",
      "execution_count": null,
      "metadata": {
        "id": "ixOPtaRLc8KU"
      },
      "outputs": [],
      "source": []
    },
    {
      "cell_type": "code",
      "execution_count": null,
      "metadata": {
        "id": "CML7bvrGc8KU"
      },
      "outputs": [],
      "source": [
        "# \"상권업종중분류명\"\n"
      ]
    },
    {
      "cell_type": "code",
      "execution_count": null,
      "metadata": {
        "id": "hBZfHpQ5c8KU"
      },
      "outputs": [],
      "source": []
    },
    {
      "cell_type": "code",
      "execution_count": null,
      "metadata": {
        "id": "sIMn_aAPc8KU"
      },
      "outputs": [],
      "source": [
        "# \"상권업종소분류명\"\n"
      ]
    },
    {
      "cell_type": "code",
      "execution_count": null,
      "metadata": {
        "id": "lPoQcMMEc8KU"
      },
      "outputs": [],
      "source": []
    },
    {
      "cell_type": "code",
      "execution_count": null,
      "metadata": {
        "id": "8hlzifuVc8KU"
      },
      "outputs": [],
      "source": [
        "# nunique 대신 len 을 사용할 수도 있습니다.\n"
      ]
    },
    {
      "cell_type": "markdown",
      "metadata": {
        "id": "5eqeBJa9c8KU"
      },
      "source": [
        "### 그룹화된 요약값 보기 - value_counts\n",
        "* value_counts 를 사용하면 카테고리 형태의 데이터 갯수를 세어볼 수 있습니다."
      ]
    },
    {
      "cell_type": "code",
      "execution_count": null,
      "metadata": {
        "id": "WjfQ0VmQc8KU"
      },
      "outputs": [],
      "source": [
        "# value_counts 를 사용하면 카테고리 형태의 데이터 갯수를 세어볼 수 있습니다.\n",
        "# 시도코드를 세어봅니다.\n"
      ]
    },
    {
      "cell_type": "code",
      "execution_count": null,
      "metadata": {
        "id": "7-I48Tpsc8KU"
      },
      "outputs": [],
      "source": [
        "# 시도명을 세어봅니다.\n"
      ]
    },
    {
      "cell_type": "code",
      "execution_count": null,
      "metadata": {
        "id": "ZByz4TRec8KU"
      },
      "outputs": [],
      "source": [
        "# normalize=True 옵션을 사용하면 비율을 구할 수 있습니다.\n"
      ]
    },
    {
      "cell_type": "code",
      "execution_count": null,
      "metadata": {
        "id": "g2Or7DN4c8KU",
        "scrolled": true
      },
      "outputs": [],
      "source": [
        "# Pandas 에는 plot기능을 내장하고 있습니다.\n",
        "# 위에서 분석한 시도명 수를 막대그래프로 표현해 봅니다.\n"
      ]
    },
    {
      "cell_type": "code",
      "execution_count": null,
      "metadata": {
        "id": "W2xpgDATc8KV"
      },
      "outputs": [],
      "source": [
        "# 판다스의 plot.pie()를 사용해서 파이그래프를 그려봅니다.\n"
      ]
    },
    {
      "cell_type": "code",
      "execution_count": null,
      "metadata": {
        "id": "gssMOcKwc8KV"
      },
      "outputs": [],
      "source": []
    },
    {
      "cell_type": "code",
      "execution_count": null,
      "metadata": {
        "id": "5L8BEXAyc8KV"
      },
      "outputs": [],
      "source": [
        "# \"상권업종대분류명\"으로 갯수를 세어봅니다.\n"
      ]
    },
    {
      "cell_type": "code",
      "execution_count": null,
      "metadata": {
        "id": "hQn2lWSTc8KV"
      },
      "outputs": [],
      "source": [
        "# \"상권업종중분류명\"으로 갯수를 세어봅니다.\n"
      ]
    },
    {
      "cell_type": "code",
      "execution_count": null,
      "metadata": {
        "id": "_w5Hqpnvc8KV"
      },
      "outputs": [],
      "source": [
        "# normalize=True 를 사용해 비율을 구해봅니다.\n"
      ]
    },
    {
      "cell_type": "code",
      "execution_count": null,
      "metadata": {
        "id": "auKSnsUNc8KV"
      },
      "outputs": [],
      "source": [
        "# 판다스의 plot.bar()를 사용해서 막대그래프를 그려봅니다.\n"
      ]
    },
    {
      "cell_type": "code",
      "execution_count": null,
      "metadata": {
        "id": "qUydCW4Bc8KV"
      },
      "outputs": [],
      "source": [
        "# 판다스의 plot.pie()를 사용해서 파이그래프를 그려봅니다.\n"
      ]
    },
    {
      "cell_type": "code",
      "execution_count": null,
      "metadata": {
        "id": "G0GzqEVNc8KV"
      },
      "outputs": [],
      "source": [
        "# \"상권업종소분류명\" 에 대한 그룹화 된 값을 카운트 합니다.\n"
      ]
    },
    {
      "cell_type": "code",
      "execution_count": null,
      "metadata": {
        "id": "7sKk8YTdc8KV"
      },
      "outputs": [],
      "source": [
        "# \"상권업종소분류명\"으로 갯수를 세어봅니다.\n",
        "# 판다스의 plot.bar()를 사용해서 막대그래프를 그려봅니다.\n"
      ]
    },
    {
      "cell_type": "markdown",
      "metadata": {
        "id": "5u1lE-hCc8KV"
      },
      "source": [
        "## 데이터 색인하기\n",
        "* 특정 데이터만 모아서 따로 봅니다."
      ]
    },
    {
      "cell_type": "code",
      "execution_count": null,
      "metadata": {
        "id": "ZtoB_f9Rc8KV"
      },
      "outputs": [],
      "source": [
        "# \"상권업종중분류명\"이 \"약국/한약방\"인 데이터만 가져와서\n",
        "# df_medical 이라는 변수에 담아봅니다.\n",
        "# 그리고 head()를 통해 미리보기를 합니다.\n"
      ]
    },
    {
      "cell_type": "code",
      "execution_count": null,
      "metadata": {
        "id": "bwr7ubBGc8KV"
      },
      "outputs": [],
      "source": [
        "# \"상권업종대분류명\" 에서 \"의료\"만 가져옵니다.\n",
        "# df.loc를 사용하면 행,열을 함께 가져올 수 있습니다.\n",
        "# 이 기능을 통해 \"상권업종중분류명\" 만 가져옵니다.\n",
        "# 그리고 가져온 결과를 value_counts 를 통해 중분류의 갯수를 세어봅니다.\n",
        "# shop_type\n"
      ]
    },
    {
      "cell_type": "code",
      "execution_count": null,
      "metadata": {
        "id": "cHcG5z8jc8KV"
      },
      "outputs": [],
      "source": [
        "# 위와 똑같은 기능을 수행하는 코드입니다. 아래와 같이 한 줄에 표현할 수도 있습니다.\n",
        "# df.loc[df[\"상권업종대분류명\"] == \"의료\", \"상권업종중분류명\"].value_counts()"
      ]
    },
    {
      "cell_type": "code",
      "execution_count": null,
      "metadata": {
        "id": "aREsfORFc8KV"
      },
      "outputs": [],
      "source": [
        "# 유사의료업만 따로 모아봅니다.\n"
      ]
    },
    {
      "cell_type": "code",
      "execution_count": null,
      "metadata": {
        "id": "XgcJ2WZcc8KV"
      },
      "outputs": [],
      "source": [
        "# 상호명을 그룹화해서 갯수를 세어봅니다.\n",
        "# value_counts 를 사용해서 상위 10개를 출력합니다.\n"
      ]
    },
    {
      "cell_type": "code",
      "execution_count": null,
      "metadata": {
        "id": "_JOIPCNxc8KV"
      },
      "outputs": [],
      "source": [
        "# 유사의료업만 df_medi 변수에 담겨져 있습니다.\n",
        "# df_medi 변수에서 상호명으로 갯수를 세어봅니다.\n",
        "# 가장 많은 상호 상위 10개를 출력해 봅니다.\n"
      ]
    },
    {
      "cell_type": "markdown",
      "metadata": {
        "id": "dyJrfMNmc8KV"
      },
      "source": [
        "### 여러 조건으로 색인하기"
      ]
    },
    {
      "cell_type": "code",
      "execution_count": null,
      "metadata": {
        "id": "erYXzWN3c8KV"
      },
      "outputs": [],
      "source": [
        "# \"상권업종소분류명\"이 \"약국\" 인 것과\n",
        "# \"시도명\" 이 \"서울특별시\"인 데이터만 가져옵니다.\n",
        "# df_seoul_drug"
      ]
    },
    {
      "cell_type": "markdown",
      "metadata": {
        "id": "umTgME5Hc8KV"
      },
      "source": [
        "### 구별로 보기"
      ]
    },
    {
      "cell_type": "code",
      "execution_count": null,
      "metadata": {
        "id": "pQnBi1Cqc8KV"
      },
      "outputs": [],
      "source": [
        "# 위에서 색인한 데이터로 \"시군구명\"으로 그룹화 해서 갯수를 세어봅니다.\n",
        "# 구별로 약국이 몇개가 있는지 확인해 봅니다.\n"
      ]
    },
    {
      "cell_type": "code",
      "execution_count": null,
      "metadata": {
        "id": "QqoQ0wdbc8KV"
      },
      "outputs": [],
      "source": [
        "# normalize=True 를 통해 비율을 구해봅니다.\n"
      ]
    },
    {
      "cell_type": "code",
      "execution_count": null,
      "metadata": {
        "id": "mFA8QHMwc8KV"
      },
      "outputs": [],
      "source": [
        "# 위에서 구한 결과를 판다스의 plot.bar()를 활용해 막대그래프로 그립니다.\n"
      ]
    },
    {
      "cell_type": "code",
      "execution_count": null,
      "metadata": {
        "id": "nmuft2Avc8KV"
      },
      "outputs": [],
      "source": [
        "# \"상권업종소분류명\"이 \"종합병원\" 인 것과\n",
        "# \"시도명\" 이 \"서울특별시\"인 데이터만 가져옵니다.\n",
        "# df_seoul_hospital"
      ]
    },
    {
      "cell_type": "code",
      "execution_count": null,
      "metadata": {
        "id": "AD32IDD5c8KW"
      },
      "outputs": [],
      "source": [
        "# \"시군구명\" 으로 그룹화 해서 구별로 종합병원의 수를 세어봅니다.\n"
      ]
    },
    {
      "cell_type": "markdown",
      "metadata": {
        "id": "lH5ePSdbc8KW"
      },
      "source": [
        "### 텍스트 데이터 색인하기"
      ]
    },
    {
      "cell_type": "code",
      "execution_count": null,
      "metadata": {
        "id": "La1STUuXc8KW"
      },
      "outputs": [],
      "source": [
        "# str.contains 를 사용해서 \"상호명\"에 \"대학병원\"이 들어가는 것을 가져와서 head()로 미리보기 합니다.\n"
      ]
    },
    {
      "cell_type": "code",
      "execution_count": null,
      "metadata": {
        "id": "PeBiiItDc8KW"
      },
      "outputs": [],
      "source": [
        "# str.startswith 를 사용해 \"서울\"로 시작하는 도로명주소를 가져와서 head()로 미리보기 합니다.\n"
      ]
    },
    {
      "cell_type": "code",
      "execution_count": null,
      "metadata": {
        "id": "9Sc-6-29c8KW"
      },
      "outputs": [],
      "source": [
        "# str.endswith를 사용해서 \"상호명\"이 \"병원\"으로 끝나는 데이터를 가져와서 head()로 미리보기 합니다.\n"
      ]
    },
    {
      "cell_type": "markdown",
      "metadata": {
        "id": "xbEKJYY0c8KW"
      },
      "source": [
        "### 특정 지역만 보기"
      ]
    },
    {
      "cell_type": "code",
      "execution_count": null,
      "metadata": {
        "id": "XPKoPL6-c8KW",
        "scrolled": true
      },
      "outputs": [],
      "source": [
        "# 서울에 있는 데이터의 위도와 경도를 봅니다.\n",
        "# 결과를 df_seoul 이라는 데이터프레임에 저장합니다.\n",
        "# 새로운 변수에 데이터프레임을 저장시 copy()를 사용합니다.\n",
        "# df_seoul\n"
      ]
    },
    {
      "cell_type": "code",
      "execution_count": null,
      "metadata": {
        "id": "OTTfMcYKc8KW"
      },
      "outputs": [],
      "source": [
        "# seaborn 의 countplot 을 사용해서 위에서 만든 df_seoul 데이터프레임의\n",
        "# 시군구명을 시각화 합니다.\n",
        "plt.figure(figsize=(9, 6))\n"
      ]
    },
    {
      "cell_type": "code",
      "execution_count": null,
      "metadata": {
        "id": "P5QsYt5qc8KW"
      },
      "outputs": [],
      "source": [
        "# Pandas 의 plot.scatter 를 통해 경도와 위도를 표시해 봅니다.\n"
      ]
    },
    {
      "cell_type": "code",
      "execution_count": null,
      "metadata": {
        "id": "tNG-Qx8Xc8KW",
        "scrolled": false
      },
      "outputs": [],
      "source": [
        "# seaborn의 scatterplot 을 통해 구별 경도와 위도를 표시해 봅니다.\n",
        "plt.figure(figsize=(16, 12))\n"
      ]
    },
    {
      "cell_type": "code",
      "execution_count": null,
      "metadata": {
        "id": "uH6Y5fvdc8KX"
      },
      "outputs": [],
      "source": [
        "# seaborn의 scatterplot 을 통해 \"상권업종중분류명\" 경도와 위도를 표시해 봅니다.\n",
        "plt.figure(figsize=(16, 12))\n"
      ]
    },
    {
      "cell_type": "code",
      "execution_count": null,
      "metadata": {
        "id": "HvxgCShNc8KX",
        "scrolled": true
      },
      "outputs": [],
      "source": [
        "# seaborn의 scatterplot 을 통해 전국 데이터(df)로 구별 경도와 위도를 표시해 봅니다.\n",
        "plt.figure(figsize=(16, 12))\n"
      ]
    },
    {
      "cell_type": "markdown",
      "metadata": {
        "id": "6o0bKNqBc8KX"
      },
      "source": [
        "\n",
        "## Folium 으로 지도 활용하기\n",
        "* 다음의 프롬프트 창을 열어 conda 명령어로 설치합니다.\n",
        "<img src=\"https://t1.daumcdn.net/cfile/tistory/99576B4A5B751DC902\">\n",
        "\n",
        "검은색 프롬프트 창에 아래 명령어를 통해 folium 을 설치합니다.\n",
        "\n",
        "\n",
        "`conda install -c conda-forge folium`\n",
        "\n",
        "### Folium 사용예제\n",
        "http://nbviewer.jupyter.org/github/python-visualization/folium/tree/main/examples/\n"
      ]
    },
    {
      "cell_type": "code",
      "execution_count": null,
      "metadata": {
        "id": "VF8FC-dOc8KX"
      },
      "outputs": [],
      "source": [
        "# 아나콘다에서 folium 을 사용하기 위해서는 별도의 설치가 필요\n",
        "# https://anaconda.org/conda-forge/folium\n",
        "# conda install -c conda-forge folium\n",
        "# 지도 시각화를 위한 라이브러리\n"
      ]
    },
    {
      "cell_type": "code",
      "execution_count": null,
      "metadata": {
        "id": "28ejg6z6c8KX"
      },
      "outputs": [],
      "source": [
        "# geo_df 에 df_seoul_hospital 을 copy() 로 복사해서 할당합니다.\n"
      ]
    },
    {
      "cell_type": "code",
      "execution_count": null,
      "metadata": {
        "id": "jUVO-M5-c8KX"
      },
      "outputs": [],
      "source": [
        "# 지도의 중심을 지정하기 위해 위도와 경도의 평균을 구합니다.\n"
      ]
    },
    {
      "cell_type": "markdown",
      "metadata": {
        "id": "9MhcrLjoc8KX"
      },
      "source": [
        "## 좀 더 분석해 보기\n",
        "* 상권업종중분류명, 상권업종소분류명 중에 관심 있는 분류명을 색인 후에 시도별, 시군구별 분석을 해보세요.\n",
        "* 예시)\n",
        "    * 언어치료는 시군구별로 어디에 많이 위치할까?\n",
        "    * 의료시설은 서울과 강남에 집중되어 있을까?\n",
        "    * 강남에는 피부과, 성형외과가 다른 지역에 비해 많을까?"
      ]
    },
    {
      "cell_type": "code",
      "execution_count": null,
      "metadata": {
        "id": "mp5UBsY7c8KX"
      },
      "outputs": [],
      "source": []
    },
    {
      "cell_type": "code",
      "execution_count": null,
      "metadata": {
        "id": "tCp4_9Nzc8KX"
      },
      "outputs": [],
      "source": []
    }
  ],
  "metadata": {
    "colab": {
      "provenance": []
    },
    "kernelspec": {
      "display_name": "Python 3 (ipykernel)",
      "language": "python",
      "name": "python3"
    },
    "language_info": {
      "codemirror_mode": {
        "name": "ipython",
        "version": 3
      },
      "file_extension": ".py",
      "mimetype": "text/x-python",
      "name": "python",
      "nbconvert_exporter": "python",
      "pygments_lexer": "ipython3",
      "version": "3.12.4"
    },
    "toc": {
      "base_numbering": 1,
      "nav_menu": {},
      "number_sections": true,
      "sideBar": true,
      "skip_h1_title": false,
      "title_cell": "Table of Contents",
      "title_sidebar": "Contents",
      "toc_cell": false,
      "toc_position": {
        "height": "518px",
        "left": "105px",
        "top": "571px",
        "width": "171px"
      },
      "toc_section_display": true,
      "toc_window_display": true
    },
    "varInspector": {
      "cols": {
        "lenName": 16,
        "lenType": 16,
        "lenVar": 40
      },
      "kernels_config": {
        "python": {
          "delete_cmd_postfix": "",
          "delete_cmd_prefix": "del ",
          "library": "var_list.py",
          "varRefreshCmd": "print(var_dic_list())"
        },
        "r": {
          "delete_cmd_postfix": ") ",
          "delete_cmd_prefix": "rm(",
          "library": "var_list.r",
          "varRefreshCmd": "cat(var_dic_list()) "
        }
      },
      "types_to_exclude": [
        "module",
        "function",
        "builtin_function_or_method",
        "instance",
        "_Feature"
      ],
      "window_display": false
    }
  },
  "nbformat": 4,
  "nbformat_minor": 0
}
